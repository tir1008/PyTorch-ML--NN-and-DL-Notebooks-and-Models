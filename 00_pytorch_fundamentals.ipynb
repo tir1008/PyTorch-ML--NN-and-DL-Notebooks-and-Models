{
  "cells": [
    {
      "cell_type": "markdown",
      "metadata": {
        "id": "iJslHn5tulZB"
      },
      "source": [
        "##PyTorch Fundamentals\n",
        "\n",
        "Resource notebook: https://www.learnpytorch.io/00_pytorch_fundamentals/\n",
        "\n",
        "If you have a question: https://github.com/mrdbourke/pytorch-deep-learning/discussions"
      ]
    },
    {
      "cell_type": "code",
      "execution_count": 90,
      "metadata": {
        "colab": {
          "base_uri": "https://localhost:8080/"
        },
        "id": "s_vtMovA3PvK",
        "outputId": "ec233d1c-d5a1-4280-bda3-b84d8a8a7485"
      },
      "outputs": [
        {
          "output_type": "stream",
          "name": "stdout",
          "text": [
            "2.3.0+cu121\n"
          ]
        }
      ],
      "source": [
        "import torch\n",
        "import pandas as pd\n",
        "import numpy as np\n",
        "import matplotlib.pyplot as plt\n",
        "print(torch.__version__)"
      ]
    },
    {
      "cell_type": "markdown",
      "metadata": {
        "id": "5K9h-BKOk4QK"
      },
      "source": [
        "## Introduction to Tensors\n",
        "\n",
        "### Creating tensors\n",
        "\n",
        "PyTorch tensors are created using `torch.Tensors()` = https://pytorch.org/docs/stable/tensors.html"
      ]
    },
    {
      "cell_type": "code",
      "execution_count": 91,
      "metadata": {
        "colab": {
          "base_uri": "https://localhost:8080/"
        },
        "id": "RDHwMSv_xZOB",
        "outputId": "68e157ae-91d0-4f47-adfa-a69858a77c39"
      },
      "outputs": [
        {
          "output_type": "execute_result",
          "data": {
            "text/plain": [
              "tensor(7)"
            ]
          },
          "metadata": {},
          "execution_count": 91
        }
      ],
      "source": [
        "#scalar\n",
        "scalar = torch.tensor(7)\n",
        "scalar"
      ]
    },
    {
      "cell_type": "code",
      "execution_count": 92,
      "metadata": {
        "colab": {
          "base_uri": "https://localhost:8080/"
        },
        "id": "faPrJLLGxt8j",
        "outputId": "afde66d8-5a89-4f97-a875-6826bee3bc78"
      },
      "outputs": [
        {
          "output_type": "execute_result",
          "data": {
            "text/plain": [
              "0"
            ]
          },
          "metadata": {},
          "execution_count": 92
        }
      ],
      "source": [
        "scalar.ndim"
      ]
    },
    {
      "cell_type": "code",
      "execution_count": 93,
      "metadata": {
        "colab": {
          "base_uri": "https://localhost:8080/"
        },
        "id": "kxKXLUoBz0S8",
        "outputId": "a6a5e8e6-0026-467e-d569-73d3f03c60a9"
      },
      "outputs": [
        {
          "output_type": "execute_result",
          "data": {
            "text/plain": [
              "7"
            ]
          },
          "metadata": {},
          "execution_count": 93
        }
      ],
      "source": [
        "#Get tensor back as Python int\n",
        "scalar.item()"
      ]
    },
    {
      "cell_type": "code",
      "execution_count": 94,
      "metadata": {
        "colab": {
          "base_uri": "https://localhost:8080/"
        },
        "id": "vXlCNT7q36Q1",
        "outputId": "242b6c75-e6e6-4ac3-a12a-f334e9c4e272"
      },
      "outputs": [
        {
          "output_type": "execute_result",
          "data": {
            "text/plain": [
              "tensor([7, 7])"
            ]
          },
          "metadata": {},
          "execution_count": 94
        }
      ],
      "source": [
        "#Vector\n",
        "vector = torch.tensor([7,7])\n",
        "vector"
      ]
    },
    {
      "cell_type": "code",
      "execution_count": 95,
      "metadata": {
        "colab": {
          "base_uri": "https://localhost:8080/"
        },
        "id": "MdU72cg-4Ec4",
        "outputId": "48e46fb7-7d9b-4ac2-8355-a8285e4344c0"
      },
      "outputs": [
        {
          "output_type": "execute_result",
          "data": {
            "text/plain": [
              "1"
            ]
          },
          "metadata": {},
          "execution_count": 95
        }
      ],
      "source": [
        "vector.ndim"
      ]
    },
    {
      "cell_type": "code",
      "execution_count": 96,
      "metadata": {
        "colab": {
          "base_uri": "https://localhost:8080/"
        },
        "id": "12sFS1z94My1",
        "outputId": "1f8165e8-ee04-4ee6-9637-5210150b2684"
      },
      "outputs": [
        {
          "output_type": "execute_result",
          "data": {
            "text/plain": [
              "torch.Size([2])"
            ]
          },
          "metadata": {},
          "execution_count": 96
        }
      ],
      "source": [
        "vector.shape"
      ]
    },
    {
      "cell_type": "code",
      "execution_count": 97,
      "metadata": {
        "colab": {
          "base_uri": "https://localhost:8080/"
        },
        "id": "8_qPkxsx4U8j",
        "outputId": "c1712172-88c7-4d6a-f1f2-635e4d30142d"
      },
      "outputs": [
        {
          "output_type": "execute_result",
          "data": {
            "text/plain": [
              "tensor([[ 7,  8],\n",
              "        [ 9, 10]])"
            ]
          },
          "metadata": {},
          "execution_count": 97
        }
      ],
      "source": [
        "#MATRIX\n",
        "MATRIX = torch.tensor([[7,8],\n",
        "                        [9,10]])\n",
        "MATRIX"
      ]
    },
    {
      "cell_type": "code",
      "execution_count": 98,
      "metadata": {
        "colab": {
          "base_uri": "https://localhost:8080/"
        },
        "id": "IZnp7Wxz5Mr8",
        "outputId": "5cab4918-bb14-45a3-f95f-611df8cf9b1a"
      },
      "outputs": [
        {
          "output_type": "execute_result",
          "data": {
            "text/plain": [
              "2"
            ]
          },
          "metadata": {},
          "execution_count": 98
        }
      ],
      "source": [
        "MATRIX.ndim"
      ]
    },
    {
      "cell_type": "code",
      "execution_count": 99,
      "metadata": {
        "colab": {
          "base_uri": "https://localhost:8080/"
        },
        "id": "yD1AfKPZ5Qvx",
        "outputId": "dd38ddcb-4fa6-45c8-f5b0-86dc8cc7f2c1"
      },
      "outputs": [
        {
          "output_type": "execute_result",
          "data": {
            "text/plain": [
              "tensor([ 9, 10])"
            ]
          },
          "metadata": {},
          "execution_count": 99
        }
      ],
      "source": [
        "MATRIX[1]"
      ]
    },
    {
      "cell_type": "code",
      "execution_count": 100,
      "metadata": {
        "colab": {
          "base_uri": "https://localhost:8080/"
        },
        "id": "Dr3b9TX954CB",
        "outputId": "82d909e4-b568-48bf-db05-691846e695d9"
      },
      "outputs": [
        {
          "output_type": "execute_result",
          "data": {
            "text/plain": [
              "torch.Size([2, 2])"
            ]
          },
          "metadata": {},
          "execution_count": 100
        }
      ],
      "source": [
        "MATRIX.shape"
      ]
    },
    {
      "cell_type": "code",
      "execution_count": 101,
      "metadata": {
        "colab": {
          "base_uri": "https://localhost:8080/"
        },
        "id": "IG92iuyW6Mtm",
        "outputId": "fddc934f-74ea-4881-c0e2-15e2ed39f0fd"
      },
      "outputs": [
        {
          "output_type": "execute_result",
          "data": {
            "text/plain": [
              "tensor([[[1, 2, 3],\n",
              "         [3, 6, 9],\n",
              "         [2, 4, 8]]])"
            ]
          },
          "metadata": {},
          "execution_count": 101
        }
      ],
      "source": [
        "# Tensor\n",
        "TENSOR = torch.tensor([[[1,2,3],\n",
        "                        [3,6,9],\n",
        "                        [2,4,8]]])\n",
        "TENSOR"
      ]
    },
    {
      "cell_type": "code",
      "execution_count": 102,
      "metadata": {
        "colab": {
          "base_uri": "https://localhost:8080/"
        },
        "id": "A8RX09dm-SOb",
        "outputId": "8bdf0d96-0b9e-4270-d191-62e6cd4aafc8"
      },
      "outputs": [
        {
          "output_type": "execute_result",
          "data": {
            "text/plain": [
              "3"
            ]
          },
          "metadata": {},
          "execution_count": 102
        }
      ],
      "source": [
        "TENSOR.ndim"
      ]
    },
    {
      "cell_type": "code",
      "execution_count": 103,
      "metadata": {
        "colab": {
          "base_uri": "https://localhost:8080/"
        },
        "id": "vbRTLUlq-WKj",
        "outputId": "aad5b56b-434a-4dba-a737-76f06f7a67d6"
      },
      "outputs": [
        {
          "output_type": "execute_result",
          "data": {
            "text/plain": [
              "torch.Size([1, 3, 3])"
            ]
          },
          "metadata": {},
          "execution_count": 103
        }
      ],
      "source": [
        "TENSOR.shape"
      ]
    },
    {
      "cell_type": "markdown",
      "metadata": {
        "id": "ir9F4t0hDzpP"
      },
      "source": [
        "### Random tensors\n",
        "\n",
        "why random tensors?\n",
        "\n",
        "Random tensors are important because the way many neural netwoks learn is that they start with tensors full of random numbers and then adjust those random  numbers to better represent the data.\n",
        "\n",
        "`Start with random numbers -> look at data -> update random numbers -> look at data -> update random numbers`\n",
        "\n",
        "Torch random tensors - https://pytorch.org/docs/stable/generated/torch.rand.html"
      ]
    },
    {
      "cell_type": "code",
      "execution_count": 104,
      "metadata": {
        "colab": {
          "base_uri": "https://localhost:8080/"
        },
        "id": "YF37qA4PG64U",
        "outputId": "16c15bb9-d449-4463-958d-606a9851586e"
      },
      "outputs": [
        {
          "output_type": "execute_result",
          "data": {
            "text/plain": [
              "tensor([[[0.8694, 0.5677, 0.7411, 0.4294],\n",
              "         [0.8854, 0.5739, 0.2666, 0.6274],\n",
              "         [0.2696, 0.4414, 0.2969, 0.8317]],\n",
              "\n",
              "        [[0.1053, 0.2695, 0.3588, 0.1994],\n",
              "         [0.5472, 0.0062, 0.9516, 0.0753],\n",
              "         [0.8860, 0.5832, 0.3376, 0.8090]]])"
            ]
          },
          "metadata": {},
          "execution_count": 104
        }
      ],
      "source": [
        "#create a random tensor of size (3,4)\n",
        "random_tensor = torch.rand(2,3,4)\n",
        "random_tensor"
      ]
    },
    {
      "cell_type": "code",
      "execution_count": 105,
      "metadata": {
        "colab": {
          "base_uri": "https://localhost:8080/"
        },
        "id": "SY1b0hQAI2Op",
        "outputId": "6ab5a570-54ea-45f0-bd7e-b2b41426652b"
      },
      "outputs": [
        {
          "output_type": "execute_result",
          "data": {
            "text/plain": [
              "3"
            ]
          },
          "metadata": {},
          "execution_count": 105
        }
      ],
      "source": [
        "random_tensor.ndim"
      ]
    },
    {
      "cell_type": "code",
      "execution_count": 106,
      "metadata": {
        "colab": {
          "base_uri": "https://localhost:8080/"
        },
        "id": "M0IdSN0iLkWK",
        "outputId": "e554f400-06aa-4a31-c164-00eb4123158d"
      },
      "outputs": [
        {
          "output_type": "execute_result",
          "data": {
            "text/plain": [
              "(torch.Size([3, 224, 224]), 3)"
            ]
          },
          "metadata": {},
          "execution_count": 106
        }
      ],
      "source": [
        "#Create a random tensor with similar shape to an image tensor\n",
        "random_image_size_tensor = torch.rand(size=(3,224,224)) # height, width, colour channels (R,G,B)\n",
        "random_image_size_tensor.shape, random_image_size_tensor.ndim"
      ]
    },
    {
      "cell_type": "markdown",
      "metadata": {
        "id": "YHmPxX9_M17n"
      },
      "source": [
        "### Zeros and ones"
      ]
    },
    {
      "cell_type": "code",
      "execution_count": 107,
      "metadata": {
        "colab": {
          "base_uri": "https://localhost:8080/"
        },
        "id": "r96qZCReOOZe",
        "outputId": "9d455b34-46f4-4ad3-e78c-f4c84e20e253"
      },
      "outputs": [
        {
          "output_type": "execute_result",
          "data": {
            "text/plain": [
              "tensor([[0., 0., 0., 0.],\n",
              "        [0., 0., 0., 0.],\n",
              "        [0., 0., 0., 0.]])"
            ]
          },
          "metadata": {},
          "execution_count": 107
        }
      ],
      "source": [
        "# Ceate a tensor of all zeros\n",
        "zeros = torch.zeros((3,4))\n",
        "zeros"
      ]
    },
    {
      "cell_type": "code",
      "execution_count": 108,
      "metadata": {
        "colab": {
          "base_uri": "https://localhost:8080/"
        },
        "id": "W_r0crv4Ocvl",
        "outputId": "bfc44b7f-1a7b-4f7c-a5bb-ec9920bceb35"
      },
      "outputs": [
        {
          "output_type": "execute_result",
          "data": {
            "text/plain": [
              "tensor([[1., 1., 1., 1.],\n",
              "        [1., 1., 1., 1.],\n",
              "        [1., 1., 1., 1.]])"
            ]
          },
          "metadata": {},
          "execution_count": 108
        }
      ],
      "source": [
        "# Ceate a tensor of alll ones\n",
        "ones = torch.ones((3,4))\n",
        "ones"
      ]
    },
    {
      "cell_type": "code",
      "execution_count": 109,
      "metadata": {
        "colab": {
          "base_uri": "https://localhost:8080/"
        },
        "id": "_ApfnHPdOmVp",
        "outputId": "9507a0f7-7801-4fad-aaf0-6ae6331b1839"
      },
      "outputs": [
        {
          "output_type": "execute_result",
          "data": {
            "text/plain": [
              "torch.float32"
            ]
          },
          "metadata": {},
          "execution_count": 109
        }
      ],
      "source": [
        "ones.dtype"
      ]
    },
    {
      "cell_type": "code",
      "execution_count": 110,
      "metadata": {
        "colab": {
          "base_uri": "https://localhost:8080/"
        },
        "id": "DpyBR04uOq6E",
        "outputId": "b85523e9-e6b5-4698-b350-aae9eec62861"
      },
      "outputs": [
        {
          "output_type": "execute_result",
          "data": {
            "text/plain": [
              "torch.float32"
            ]
          },
          "metadata": {},
          "execution_count": 110
        }
      ],
      "source": [
        "random_tensor.dtype"
      ]
    },
    {
      "cell_type": "markdown",
      "metadata": {
        "id": "xkdzGOsOOvQr"
      },
      "source": [
        "### Creating a range of tensors and tensors-like"
      ]
    },
    {
      "cell_type": "code",
      "execution_count": 111,
      "metadata": {
        "colab": {
          "base_uri": "https://localhost:8080/"
        },
        "id": "777Mhad7PGyr",
        "outputId": "406e99d2-f656-43af-e85d-b3fe0eaea3dc"
      },
      "outputs": [
        {
          "output_type": "execute_result",
          "data": {
            "text/plain": [
              "tensor([0, 1, 2, 3, 4, 5, 6, 7, 8, 9])"
            ]
          },
          "metadata": {},
          "execution_count": 111
        }
      ],
      "source": [
        "# Use torch.arange()\n",
        "torch.arange(0,10)"
      ]
    },
    {
      "cell_type": "code",
      "execution_count": 112,
      "metadata": {
        "colab": {
          "base_uri": "https://localhost:8080/"
        },
        "id": "kPx_6Kq-PRsH",
        "outputId": "b9a86374-14f7-4eec-8a3e-5adb83c83e93"
      },
      "outputs": [
        {
          "output_type": "execute_result",
          "data": {
            "text/plain": [
              "tensor([0, 2, 4, 6, 8])"
            ]
          },
          "metadata": {},
          "execution_count": 112
        }
      ],
      "source": [
        "# Use torch.arange() with steps as third parameter\n",
        "torch.arange(start=0,end=10,step=2)"
      ]
    },
    {
      "cell_type": "code",
      "execution_count": 113,
      "metadata": {
        "colab": {
          "base_uri": "https://localhost:8080/"
        },
        "id": "ERPBHTULP2PS",
        "outputId": "b8f38d6c-27d6-4a6c-e0b8-7e023f579d95"
      },
      "outputs": [
        {
          "output_type": "execute_result",
          "data": {
            "text/plain": [
              "tensor([0, 0, 0, 0, 0, 0, 0, 0, 0, 0])"
            ]
          },
          "metadata": {},
          "execution_count": 113
        }
      ],
      "source": [
        "# Create tensors like\n",
        "ten_zeros = torch.zeros_like(torch.arange(0,10))\n",
        "ten_zeros"
      ]
    },
    {
      "cell_type": "markdown",
      "metadata": {
        "id": "boFL_wuAQV8S"
      },
      "source": [
        "### Tensor Datatype\n",
        "\n",
        "**Note:** Tensor datatypes is one of the 3 big errors with pytorch & deep learning:\n",
        "1. Tensors not right datatype\n",
        "2. Tensors not right shape\n",
        "3. Tensors not on right device"
      ]
    },
    {
      "cell_type": "code",
      "execution_count": 114,
      "metadata": {
        "colab": {
          "base_uri": "https://localhost:8080/"
        },
        "id": "lNrZk6soQ-dg",
        "outputId": "690293a9-3e5a-4e7e-f93d-74f465e5eb66"
      },
      "outputs": [
        {
          "output_type": "execute_result",
          "data": {
            "text/plain": [
              "tensor([3., 6., 9.])"
            ]
          },
          "metadata": {},
          "execution_count": 114
        }
      ],
      "source": [
        "#Float 32 tensor\n",
        "f_32_tensor = torch.tensor([3.0,6.0,9.0],\n",
        "                           dtype=None)\n",
        "f_32_tensor"
      ]
    },
    {
      "cell_type": "code",
      "execution_count": 115,
      "metadata": {
        "colab": {
          "base_uri": "https://localhost:8080/"
        },
        "id": "tH4C3BOaRQjI",
        "outputId": "00576805-99ad-45a8-d5f8-bbe565ae4910"
      },
      "outputs": [
        {
          "output_type": "execute_result",
          "data": {
            "text/plain": [
              "torch.float32"
            ]
          },
          "metadata": {},
          "execution_count": 115
        }
      ],
      "source": [
        "f_32_tensor.dtype"
      ]
    },
    {
      "cell_type": "code",
      "execution_count": 116,
      "metadata": {
        "colab": {
          "base_uri": "https://localhost:8080/"
        },
        "id": "I3CGsSnQRVoI",
        "outputId": "a1fbaf3c-8aa2-481d-cae4-738122f57763"
      },
      "outputs": [
        {
          "output_type": "execute_result",
          "data": {
            "text/plain": [
              "tensor([3., 6., 9.], dtype=torch.float16)"
            ]
          },
          "metadata": {},
          "execution_count": 116
        }
      ],
      "source": [
        "f_32_tensor = torch.tensor([3.0,6.0,9.0],\n",
        "                           dtype=torch.float16,\n",
        "                           device=None,# its value can be \"cpu\", \"cuda\" etc.\n",
        "                           requires_grad=False)# weather or not to track gradients with this tensors operations\n",
        "f_32_tensor"
      ]
    },
    {
      "cell_type": "code",
      "execution_count": 117,
      "metadata": {
        "colab": {
          "base_uri": "https://localhost:8080/"
        },
        "id": "1mN6jcyQSVpA",
        "outputId": "0e858830-d1d8-4e0c-ca3f-f57754be2a68"
      },
      "outputs": [
        {
          "output_type": "execute_result",
          "data": {
            "text/plain": [
              "torch.float16"
            ]
          },
          "metadata": {},
          "execution_count": 117
        }
      ],
      "source": [
        "f_32_tensor.dtype"
      ]
    },
    {
      "cell_type": "code",
      "execution_count": 118,
      "metadata": {
        "colab": {
          "base_uri": "https://localhost:8080/"
        },
        "id": "8rO1dkj8St-3",
        "outputId": "37564872-527e-48f0-9c8f-a4093a80345a"
      },
      "outputs": [
        {
          "output_type": "execute_result",
          "data": {
            "text/plain": [
              "(tensor([3., 6., 9.], dtype=torch.float16),\n",
              " tensor([3., 6., 9.], dtype=torch.float16))"
            ]
          },
          "metadata": {},
          "execution_count": 118
        }
      ],
      "source": [
        "f_16_tensor = f_32_tensor.type(torch.float16)\n",
        "f_16_tensor,f_32_tensor"
      ]
    },
    {
      "cell_type": "code",
      "execution_count": 119,
      "metadata": {
        "colab": {
          "base_uri": "https://localhost:8080/"
        },
        "id": "iLhjmk-NUwCs",
        "outputId": "fe3c8af1-4c10-48d6-95d7-bc41b295e85f"
      },
      "outputs": [
        {
          "output_type": "execute_result",
          "data": {
            "text/plain": [
              "tensor([ 9., 36., 81.], dtype=torch.float16)"
            ]
          },
          "metadata": {},
          "execution_count": 119
        }
      ],
      "source": [
        "f_16_tensor*f_32_tensor"
      ]
    },
    {
      "cell_type": "code",
      "execution_count": 120,
      "metadata": {
        "colab": {
          "base_uri": "https://localhost:8080/"
        },
        "id": "WaRUGxU7dgj8",
        "outputId": "0fd1617c-e88e-49eb-b130-11ff005d4b38"
      },
      "outputs": [
        {
          "output_type": "execute_result",
          "data": {
            "text/plain": [
              "tensor([3, 6, 9], dtype=torch.int32)"
            ]
          },
          "metadata": {},
          "execution_count": 120
        }
      ],
      "source": [
        "int_32_tensor = torch.tensor([3,6,9],dtype=torch.int32)\n",
        "int_32_tensor"
      ]
    },
    {
      "cell_type": "code",
      "execution_count": 121,
      "metadata": {
        "colab": {
          "base_uri": "https://localhost:8080/"
        },
        "id": "OBrigfMHsHGe",
        "outputId": "db4298d5-b4d9-4a8a-e624-c6a1c2d6965d"
      },
      "outputs": [
        {
          "output_type": "execute_result",
          "data": {
            "text/plain": [
              "tensor([ 9., 36., 81.], dtype=torch.float16)"
            ]
          },
          "metadata": {},
          "execution_count": 121
        }
      ],
      "source": [
        "f_32_tensor*int_32_tensor"
      ]
    },
    {
      "cell_type": "markdown",
      "metadata": {
        "id": "POev783lsVXM"
      },
      "source": [
        "### Getting information from tensors (tensor attributes)\n",
        "\n",
        "1. Tensors not right datatype - to get datatype from a tensor, can use `tensor.dtype`\n",
        "2. Tensors not right shape - to get shape from a tensor, can use `tensor.shape`\n",
        "3. Tensors not on right device - to get device from a tensor, can use `tensor.device`"
      ]
    },
    {
      "cell_type": "code",
      "execution_count": 122,
      "metadata": {
        "colab": {
          "base_uri": "https://localhost:8080/"
        },
        "id": "36vmhBisbqOm",
        "outputId": "22b987af-58dc-4b7d-f6b5-4b24b14b2256"
      },
      "outputs": [
        {
          "output_type": "execute_result",
          "data": {
            "text/plain": [
              "tensor([[0.1336, 0.9666, 0.9754, 0.8474],\n",
              "        [0.8988, 0.1105, 0.4563, 0.9719],\n",
              "        [0.3968, 0.1496, 0.4743, 0.9973]])"
            ]
          },
          "metadata": {},
          "execution_count": 122
        }
      ],
      "source": [
        "# Create a tensor\n",
        "some_tensor = torch.rand(3,4)\n",
        "some_tensor"
      ]
    },
    {
      "cell_type": "code",
      "execution_count": 123,
      "metadata": {
        "colab": {
          "base_uri": "https://localhost:8080/"
        },
        "id": "APFkXZsBb4E-",
        "outputId": "6f85387b-1d64-4d57-bb90-b251d0cbb05c"
      },
      "outputs": [
        {
          "output_type": "stream",
          "name": "stdout",
          "text": [
            "torch.float32\n",
            "torch.Size([3, 4])\n",
            "cpu\n"
          ]
        }
      ],
      "source": [
        "#Find details about some tensor\n",
        "print(some_tensor.dtype)\n",
        "print(some_tensor.shape)\n",
        "print(some_tensor.device)"
      ]
    },
    {
      "cell_type": "markdown",
      "metadata": {
        "id": "N48X3AnjeRHo"
      },
      "source": [
        "`tensor.shape == tensor.size()`"
      ]
    },
    {
      "cell_type": "markdown",
      "metadata": {
        "id": "ts5i9UWDmqGZ"
      },
      "source": [
        "### Manipulating tensors (tensr operations)\n",
        "\n",
        "Tensor operations include:\n",
        "* Addition\n",
        "* Substraction\n",
        "* Multiplication (element-wise)\n",
        "* Division\n",
        "* Matrix Multiplication"
      ]
    },
    {
      "cell_type": "code",
      "execution_count": 124,
      "metadata": {
        "colab": {
          "base_uri": "https://localhost:8080/"
        },
        "id": "wqLxM3_Wnu4D",
        "outputId": "2edc62e5-bea3-4606-dab7-4dfb4c14ef6f"
      },
      "outputs": [
        {
          "output_type": "execute_result",
          "data": {
            "text/plain": [
              "tensor([11, 12, 13])"
            ]
          },
          "metadata": {},
          "execution_count": 124
        }
      ],
      "source": [
        "# Create a tensor and add 10 to it\n",
        "tensor = torch.tensor([1,2,3])\n",
        "tensor + 10"
      ]
    },
    {
      "cell_type": "code",
      "execution_count": 125,
      "metadata": {
        "colab": {
          "base_uri": "https://localhost:8080/"
        },
        "id": "V5skEcWmnt4d",
        "outputId": "6096022e-ebbf-4de6-dab5-94557cca05db"
      },
      "outputs": [
        {
          "output_type": "execute_result",
          "data": {
            "text/plain": [
              "tensor([10, 20, 30])"
            ]
          },
          "metadata": {},
          "execution_count": 125
        }
      ],
      "source": [
        "# Create a tensor and multiply 10 to it\n",
        "tensor = torch.tensor([1,2,3])\n",
        "tensor * 10"
      ]
    },
    {
      "cell_type": "code",
      "execution_count": 126,
      "metadata": {
        "colab": {
          "base_uri": "https://localhost:8080/"
        },
        "id": "GD4um6cYoRL_",
        "outputId": "40f6be10-4e03-423f-c5bd-294a536011ff"
      },
      "outputs": [
        {
          "output_type": "execute_result",
          "data": {
            "text/plain": [
              "tensor([1, 2, 3])"
            ]
          },
          "metadata": {},
          "execution_count": 126
        }
      ],
      "source": [
        "tensor"
      ]
    },
    {
      "cell_type": "code",
      "execution_count": 127,
      "metadata": {
        "colab": {
          "base_uri": "https://localhost:8080/"
        },
        "id": "EEvNL2iYoYC9",
        "outputId": "7b43d2e3-0d16-484a-e7a0-38b3e5f3933e"
      },
      "outputs": [
        {
          "output_type": "execute_result",
          "data": {
            "text/plain": [
              "tensor([10, 20, 30])"
            ]
          },
          "metadata": {},
          "execution_count": 127
        }
      ],
      "source": [
        "# Try out PyTorch in-built functions\n",
        "torch.mul(tensor,10)"
      ]
    },
    {
      "cell_type": "code",
      "execution_count": 128,
      "metadata": {
        "colab": {
          "base_uri": "https://localhost:8080/"
        },
        "id": "yPlgbzYao4UE",
        "outputId": "c0804d65-3c64-47c8-f6ef-4aadd1bda5a4"
      },
      "outputs": [
        {
          "output_type": "execute_result",
          "data": {
            "text/plain": [
              "tensor([11, 12, 13])"
            ]
          },
          "metadata": {},
          "execution_count": 128
        }
      ],
      "source": [
        "torch.add(tensor,10)"
      ]
    },
    {
      "cell_type": "markdown",
      "metadata": {
        "id": "PT29rtx6qmH9"
      },
      "source": [
        "### Matrix Multiplication\n",
        "* Element-wise Multiplication\n",
        "* Matrix multiplication (dot product)\n"
      ]
    },
    {
      "cell_type": "code",
      "execution_count": 129,
      "metadata": {
        "colab": {
          "base_uri": "https://localhost:8080/"
        },
        "id": "_uwFvlxKsLxm",
        "outputId": "bce340c6-6ab6-4c30-d7a1-7638d9778742"
      },
      "outputs": [
        {
          "output_type": "stream",
          "name": "stdout",
          "text": [
            "tensor([1, 2, 3]) * tensor([1, 2, 3])\n",
            "Equals: tensor([1, 4, 9])\n"
          ]
        }
      ],
      "source": [
        "# Element wise multiplication\n",
        "print(tensor, \"*\", tensor)\n",
        "print(f\"Equals: {tensor*tensor}\")"
      ]
    },
    {
      "cell_type": "code",
      "execution_count": 130,
      "metadata": {
        "colab": {
          "base_uri": "https://localhost:8080/"
        },
        "id": "vGCZxgMJ6No6",
        "outputId": "1af2884a-3421-4172-8835-75a133e303dc"
      },
      "outputs": [
        {
          "output_type": "execute_result",
          "data": {
            "text/plain": [
              "tensor(14)"
            ]
          },
          "metadata": {},
          "execution_count": 130
        }
      ],
      "source": [
        "tensor @ tensor"
      ]
    },
    {
      "cell_type": "code",
      "execution_count": 131,
      "metadata": {
        "colab": {
          "base_uri": "https://localhost:8080/"
        },
        "id": "cMwZD26QsV3W",
        "outputId": "2523ee3c-3a97-4700-eea9-c7c510871a11"
      },
      "outputs": [
        {
          "output_type": "stream",
          "name": "stdout",
          "text": [
            "CPU times: user 440 µs, sys: 33 µs, total: 473 µs\n",
            "Wall time: 386 µs\n"
          ]
        },
        {
          "output_type": "execute_result",
          "data": {
            "text/plain": [
              "tensor(14)"
            ]
          },
          "metadata": {},
          "execution_count": 131
        }
      ],
      "source": [
        "# Matrix multiplication\n",
        "%%time\n",
        "torch.matmul(tensor,tensor)"
      ]
    },
    {
      "cell_type": "code",
      "execution_count": 132,
      "metadata": {
        "colab": {
          "base_uri": "https://localhost:8080/"
        },
        "id": "ZZ_nuGY_tKaE",
        "outputId": "b1478591-623a-4bbe-a5fe-14387787aebf"
      },
      "outputs": [
        {
          "output_type": "stream",
          "name": "stdout",
          "text": [
            "tensor(14)\n",
            "CPU times: user 796 µs, sys: 0 ns, total: 796 µs\n",
            "Wall time: 1.73 ms\n"
          ]
        }
      ],
      "source": [
        "%%time\n",
        "value=0\n",
        "for i in range(len(tensor)):\n",
        "  value+=tensor[i]*tensor[i]\n",
        "print(value)"
      ]
    },
    {
      "cell_type": "markdown",
      "metadata": {
        "id": "QIk-IxJB4Qi8"
      },
      "source": [
        "### One of the most common errors in deep learning: shape error"
      ]
    },
    {
      "cell_type": "code",
      "execution_count": 133,
      "metadata": {
        "colab": {
          "base_uri": "https://localhost:8080/"
        },
        "id": "Opa2a4mT7NwE",
        "outputId": "f48f3a0f-1afa-417c-8d43-fb6ff3f674da"
      },
      "outputs": [
        {
          "output_type": "execute_result",
          "data": {
            "text/plain": [
              "tensor([[ 27,  30,  33],\n",
              "        [ 61,  68,  75],\n",
              "        [ 95, 106, 117]])"
            ]
          },
          "metadata": {},
          "execution_count": 133
        }
      ],
      "source": [
        "# Shapes for Matrix multiplication\n",
        "tensor_a = torch.tensor([[1,2],\n",
        "                         [3,4],\n",
        "                         [5,6]])\n",
        "tensor_b = torch.tensor([[7,10],\n",
        "                         [8,11],\n",
        "                         [9,12]])\n",
        "#torch.mm is an alias for torch.matmul\n",
        "torch.mm(tensor_a,tensor_b.T)"
      ]
    },
    {
      "cell_type": "markdown",
      "metadata": {
        "id": "u7R6wrEg8oiH"
      },
      "source": [
        "To fix our tensor shape issues, we can manipulate the shape of the shape of one of our tensors using a **transpose**.\n",
        "\n",
        "A **transpose** switches the axes or dimension of a given tensor."
      ]
    },
    {
      "cell_type": "code",
      "execution_count": 134,
      "metadata": {
        "colab": {
          "base_uri": "https://localhost:8080/"
        },
        "id": "UExLA8969eLO",
        "outputId": "7fb53319-90ef-480d-958d-86840848e35a"
      },
      "outputs": [
        {
          "output_type": "execute_result",
          "data": {
            "text/plain": [
              "(tensor([[ 7,  8,  9],\n",
              "         [10, 11, 12]]),\n",
              " tensor([[ 7, 10],\n",
              "         [ 8, 11],\n",
              "         [ 9, 12]]))"
            ]
          },
          "metadata": {},
          "execution_count": 134
        }
      ],
      "source": [
        "tensor_b.T, tensor_b"
      ]
    },
    {
      "cell_type": "markdown",
      "metadata": {
        "id": "CmkAM1Fq9nZ1"
      },
      "source": [
        "### Finding the min, max, mean, sum, etc (tensor aggregation)"
      ]
    },
    {
      "cell_type": "code",
      "execution_count": 135,
      "metadata": {
        "colab": {
          "base_uri": "https://localhost:8080/"
        },
        "id": "1PxZqdSXX_0C",
        "outputId": "3a52e014-ddf8-4f42-d025-617021bad689"
      },
      "outputs": [
        {
          "output_type": "execute_result",
          "data": {
            "text/plain": [
              "(tensor([ 0, 10, 20, 30, 40, 50, 60, 70, 80, 90]), torch.int64)"
            ]
          },
          "metadata": {},
          "execution_count": 135
        }
      ],
      "source": [
        "# Create a tensor\n",
        "x = torch.arange(0,100,10)\n",
        "x, x.dtype"
      ]
    },
    {
      "cell_type": "code",
      "execution_count": 136,
      "metadata": {
        "colab": {
          "base_uri": "https://localhost:8080/"
        },
        "id": "uO3ULF-rakYA",
        "outputId": "03f48cc4-3228-4172-8f12-a9b999af0d53"
      },
      "outputs": [
        {
          "output_type": "execute_result",
          "data": {
            "text/plain": [
              "(tensor(0), tensor(0))"
            ]
          },
          "metadata": {},
          "execution_count": 136
        }
      ],
      "source": [
        "#Find the min\n",
        "torch.min(x), x.min()"
      ]
    },
    {
      "cell_type": "code",
      "execution_count": 137,
      "metadata": {
        "colab": {
          "base_uri": "https://localhost:8080/"
        },
        "id": "RUAnBrjQap31",
        "outputId": "445d3ca2-a927-4e9c-d6dd-22e44c9ccf2f"
      },
      "outputs": [
        {
          "output_type": "execute_result",
          "data": {
            "text/plain": [
              "(tensor(90), tensor(90))"
            ]
          },
          "metadata": {},
          "execution_count": 137
        }
      ],
      "source": [
        "#Find the max\n",
        "torch.max(x), x.max()"
      ]
    },
    {
      "cell_type": "code",
      "execution_count": 138,
      "metadata": {
        "colab": {
          "base_uri": "https://localhost:8080/"
        },
        "id": "RhGOGDgnb2Ec",
        "outputId": "84214b92-38f3-47ef-d2d6-0a0a62d1d9e4"
      },
      "outputs": [
        {
          "output_type": "execute_result",
          "data": {
            "text/plain": [
              "(tensor(45.), tensor(45.))"
            ]
          },
          "metadata": {},
          "execution_count": 138
        }
      ],
      "source": [
        "#Find the mean - note: the torch.mean() function requires a tensor of float32 datatypeto work\n",
        "torch.mean(x.type(torch.float32)), x.type(torch.float32).mean()"
      ]
    },
    {
      "cell_type": "code",
      "execution_count": 139,
      "metadata": {
        "colab": {
          "base_uri": "https://localhost:8080/"
        },
        "id": "ESc1_CJ2c92g",
        "outputId": "5308c926-40c7-4712-c482-52fe3032a3a7"
      },
      "outputs": [
        {
          "output_type": "execute_result",
          "data": {
            "text/plain": [
              "(tensor(450), tensor(450))"
            ]
          },
          "metadata": {},
          "execution_count": 139
        }
      ],
      "source": [
        "# Find the sum\n",
        "torch.sum(x), x.sum()"
      ]
    },
    {
      "cell_type": "code",
      "execution_count": 140,
      "metadata": {
        "colab": {
          "base_uri": "https://localhost:8080/"
        },
        "id": "BlRSg-tvdo6f",
        "outputId": "af7f7661-dca9-44fc-fc20-2312a4e599e5"
      },
      "outputs": [
        {
          "output_type": "execute_result",
          "data": {
            "text/plain": [
              "tensor(9)"
            ]
          },
          "metadata": {},
          "execution_count": 140
        }
      ],
      "source": [
        "# Find index of max value\n",
        "x.argmax()"
      ]
    },
    {
      "cell_type": "markdown",
      "metadata": {
        "id": "WHlNbOWLeFu6"
      },
      "source": [
        "## Reshaping, Stacking, squeezing and unsqueezing tensors\n",
        "\n",
        "* Reshapeing - reshapes an input tensor to a defined shape\n",
        "* View - Return a view oa an input tensor of certain shape but keep the memory as original tensor\n",
        "* Stacking - combine multiple tensors on top of each other (vstack) or side by side (hstack)\n",
        "* Squeeze - remove all `1` dimension from the tensor\n",
        "* Unsqueeze - add a `1` dimension to the target tensor\n",
        "* Permute - Return a view of the input with dimensions permuted (swapped) in a certain way"
      ]
    },
    {
      "cell_type": "code",
      "execution_count": 141,
      "metadata": {
        "colab": {
          "base_uri": "https://localhost:8080/"
        },
        "id": "vO8EL4Pjggq2",
        "outputId": "3a71be67-99b8-463e-8e28-641289a5aa64"
      },
      "outputs": [
        {
          "output_type": "execute_result",
          "data": {
            "text/plain": [
              "(tensor([ 1.,  2.,  3.,  4.,  5.,  6.,  7.,  8.,  9., 10.]), torch.Size([10]))"
            ]
          },
          "metadata": {},
          "execution_count": 141
        }
      ],
      "source": [
        "import torch\n",
        "x=torch.arange(1.,11.)\n",
        "x, x.shape"
      ]
    },
    {
      "cell_type": "code",
      "execution_count": 142,
      "metadata": {
        "colab": {
          "base_uri": "https://localhost:8080/"
        },
        "id": "7CtWOz6jgr_R",
        "outputId": "939a05ba-ced3-4cd3-ba05-d01e55e2098c"
      },
      "outputs": [
        {
          "output_type": "execute_result",
          "data": {
            "text/plain": [
              "(tensor([[ 1.,  2.],\n",
              "         [ 3.,  4.],\n",
              "         [ 5.,  6.],\n",
              "         [ 7.,  8.],\n",
              "         [ 9., 10.]]),\n",
              " torch.Size([5, 2]))"
            ]
          },
          "metadata": {},
          "execution_count": 142
        }
      ],
      "source": [
        "# Add an extra dimension\n",
        "x_reshaped = x.reshape(5,2)\n",
        "x_reshaped, x_reshaped.shape"
      ]
    },
    {
      "cell_type": "code",
      "execution_count": 143,
      "metadata": {
        "colab": {
          "base_uri": "https://localhost:8080/"
        },
        "id": "sSToBTOng9V5",
        "outputId": "d8a5cf97-f28d-4ae9-fa07-3795cd5b2e16"
      },
      "outputs": [
        {
          "output_type": "execute_result",
          "data": {
            "text/plain": [
              "(tensor([[ 1.,  2.,  3.,  4.,  5.,  6.,  7.,  8.,  9., 10.]]),\n",
              " torch.Size([1, 10]))"
            ]
          },
          "metadata": {},
          "execution_count": 143
        }
      ],
      "source": [
        "# Change the view\n",
        "z = x_reshaped.view(1,10)\n",
        "z, z.shape"
      ]
    },
    {
      "cell_type": "code",
      "execution_count": 144,
      "metadata": {
        "colab": {
          "base_uri": "https://localhost:8080/"
        },
        "id": "xdECLPCsh4cq",
        "outputId": "a3d7e75d-d5d6-4f79-c915-9b57df916163"
      },
      "outputs": [
        {
          "output_type": "execute_result",
          "data": {
            "text/plain": [
              "(tensor([[ 5.,  2.,  3.,  4.,  5.,  6.,  7.,  8.,  9., 10.]]),\n",
              " tensor([[ 5.,  2.],\n",
              "         [ 3.,  4.],\n",
              "         [ 5.,  6.],\n",
              "         [ 7.,  8.],\n",
              "         [ 9., 10.]]))"
            ]
          },
          "metadata": {},
          "execution_count": 144
        }
      ],
      "source": [
        "# Changing z changes x (because a view of a tensor shares the same memory as the original input)\n",
        "z[:,0]=5\n",
        "z,x_reshaped"
      ]
    },
    {
      "cell_type": "code",
      "execution_count": 145,
      "metadata": {
        "colab": {
          "base_uri": "https://localhost:8080/"
        },
        "id": "xdvP3fZXiWsc",
        "outputId": "0070abeb-019a-4a68-95b0-4b1274d33429"
      },
      "outputs": [
        {
          "output_type": "execute_result",
          "data": {
            "text/plain": [
              "tensor([[ 5.,  5.,  5.,  5.],\n",
              "        [ 2.,  2.,  2.,  2.],\n",
              "        [ 3.,  3.,  3.,  3.],\n",
              "        [ 4.,  4.,  4.,  4.],\n",
              "        [ 5.,  5.,  5.,  5.],\n",
              "        [ 6.,  6.,  6.,  6.],\n",
              "        [ 7.,  7.,  7.,  7.],\n",
              "        [ 8.,  8.,  8.,  8.],\n",
              "        [ 9.,  9.,  9.,  9.],\n",
              "        [10., 10., 10., 10.]])"
            ]
          },
          "metadata": {},
          "execution_count": 145
        }
      ],
      "source": [
        "# Stack tensors on top of each other\n",
        "x_stacked = torch.stack([x,x,x,x], dim=1)\n",
        "x_stacked"
      ]
    },
    {
      "cell_type": "code",
      "execution_count": 146,
      "metadata": {
        "colab": {
          "base_uri": "https://localhost:8080/"
        },
        "id": "gT22haCoirkO",
        "outputId": "75ee61b9-7c11-4e31-cf03-0f3eeda314f5"
      },
      "outputs": [
        {
          "output_type": "execute_result",
          "data": {
            "text/plain": [
              "tensor([ 5.,  2.,  3.,  4.,  5.,  6.,  7.,  8.,  9., 10.])"
            ]
          },
          "metadata": {},
          "execution_count": 146
        }
      ],
      "source": [
        "# torch.squeeze() - remove all single dimensions from a target tensor\n",
        "x"
      ]
    },
    {
      "cell_type": "code",
      "source": [
        "x.shape"
      ],
      "metadata": {
        "colab": {
          "base_uri": "https://localhost:8080/"
        },
        "id": "XtjVJa-JAznB",
        "outputId": "aaf93732-9eca-4abd-f1f5-fd7b052d8aaf"
      },
      "execution_count": 147,
      "outputs": [
        {
          "output_type": "execute_result",
          "data": {
            "text/plain": [
              "torch.Size([10])"
            ]
          },
          "metadata": {},
          "execution_count": 147
        }
      ]
    },
    {
      "cell_type": "code",
      "source": [
        "x.squeeze()"
      ],
      "metadata": {
        "colab": {
          "base_uri": "https://localhost:8080/"
        },
        "id": "_W1ZYtVvA1zj",
        "outputId": "f22d8e4e-b2d3-4138-ea17-62d333c354b9"
      },
      "execution_count": 148,
      "outputs": [
        {
          "output_type": "execute_result",
          "data": {
            "text/plain": [
              "tensor([ 5.,  2.,  3.,  4.,  5.,  6.,  7.,  8.,  9., 10.])"
            ]
          },
          "metadata": {},
          "execution_count": 148
        }
      ]
    },
    {
      "cell_type": "code",
      "source": [
        "x.squeeze().shape"
      ],
      "metadata": {
        "colab": {
          "base_uri": "https://localhost:8080/"
        },
        "id": "BY39cjirA5jL",
        "outputId": "a16cbe70-174b-4626-a69c-90172368c590"
      },
      "execution_count": 149,
      "outputs": [
        {
          "output_type": "execute_result",
          "data": {
            "text/plain": [
              "torch.Size([10])"
            ]
          },
          "metadata": {},
          "execution_count": 149
        }
      ]
    },
    {
      "cell_type": "code",
      "source": [
        "y = torch.rand(2,3,4,5)\n",
        "y.squeeze().shape"
      ],
      "metadata": {
        "colab": {
          "base_uri": "https://localhost:8080/"
        },
        "id": "ysivy4RJEBWh",
        "outputId": "2b3e7b86-a50a-47dc-b0fc-080d5bc1314d"
      },
      "execution_count": 150,
      "outputs": [
        {
          "output_type": "execute_result",
          "data": {
            "text/plain": [
              "torch.Size([2, 3, 4, 5])"
            ]
          },
          "metadata": {},
          "execution_count": 150
        }
      ]
    },
    {
      "cell_type": "code",
      "source": [
        "y = torch.rand(2,3,1)\n",
        "print(y)\n",
        "print(y.squeeze().shape)\n",
        "print(y.squeeze())# on using this function it does not affect acctual tensor that is saved in memory it is just like a view after squeezing\n",
        "print(y)"
      ],
      "metadata": {
        "colab": {
          "base_uri": "https://localhost:8080/"
        },
        "id": "BXMygzhCKJdM",
        "outputId": "71cd79b0-6156-4e26-a328-4305018399ab"
      },
      "execution_count": 151,
      "outputs": [
        {
          "output_type": "stream",
          "name": "stdout",
          "text": [
            "tensor([[[0.2319],\n",
            "         [0.2378],\n",
            "         [0.2206]],\n",
            "\n",
            "        [[0.4074],\n",
            "         [0.9057],\n",
            "         [0.4490]]])\n",
            "torch.Size([2, 3])\n",
            "tensor([[0.2319, 0.2378, 0.2206],\n",
            "        [0.4074, 0.9057, 0.4490]])\n",
            "tensor([[[0.2319],\n",
            "         [0.2378],\n",
            "         [0.2206]],\n",
            "\n",
            "        [[0.4074],\n",
            "         [0.9057],\n",
            "         [0.4490]]])\n"
          ]
        }
      ]
    },
    {
      "cell_type": "code",
      "source": [
        "# troch.unsqueeze() - adds a single dimension to a target tensor at a specific dim (dimension)\n",
        "print(y.unsqueeze(dim=-1).shape)\n",
        "print(y.unsqueeze(dim=-1)) # here dim specify the index in the shape vector to add new dimension of 1"
      ],
      "metadata": {
        "colab": {
          "base_uri": "https://localhost:8080/"
        },
        "id": "5JlX1CdrKst4",
        "outputId": "3160b367-6e19-4f5d-ff2d-416fcdc0784a"
      },
      "execution_count": 152,
      "outputs": [
        {
          "output_type": "stream",
          "name": "stdout",
          "text": [
            "torch.Size([2, 3, 1, 1])\n",
            "tensor([[[[0.2319]],\n",
            "\n",
            "         [[0.2378]],\n",
            "\n",
            "         [[0.2206]]],\n",
            "\n",
            "\n",
            "        [[[0.4074]],\n",
            "\n",
            "         [[0.9057]],\n",
            "\n",
            "         [[0.4490]]]])\n"
          ]
        }
      ]
    },
    {
      "cell_type": "code",
      "source": [
        "# torch.permute(input, dims) - Returns a view of the original tensor input with its dimensions permuted\n",
        "x_original = torch.rand(size=(224,224,3))\n",
        "\n",
        "x_permute = x_original.permute(2,0,1)# shift axis 0->1, 1->2, 2->0\n",
        "\n",
        "x_original.shape, x_permute.shape"
      ],
      "metadata": {
        "colab": {
          "base_uri": "https://localhost:8080/"
        },
        "id": "SVcDuYC1NBi_",
        "outputId": "d4887820-771c-4ae8-e66e-046d991b87ea"
      },
      "execution_count": 153,
      "outputs": [
        {
          "output_type": "execute_result",
          "data": {
            "text/plain": [
              "(torch.Size([224, 224, 3]), torch.Size([3, 224, 224]))"
            ]
          },
          "metadata": {},
          "execution_count": 153
        }
      ]
    },
    {
      "cell_type": "code",
      "source": [
        "print(x_original,x_original[0,:,0])"
      ],
      "metadata": {
        "colab": {
          "base_uri": "https://localhost:8080/"
        },
        "id": "DLlMjszJCf_y",
        "outputId": "48a74a37-de13-4cde-e24b-a0699d971e14"
      },
      "execution_count": 154,
      "outputs": [
        {
          "output_type": "stream",
          "name": "stdout",
          "text": [
            "tensor([[[0.6509, 0.7044, 0.5421],\n",
            "         [0.0280, 0.4097, 0.2592],\n",
            "         [0.6951, 0.7100, 0.8263],\n",
            "         ...,\n",
            "         [0.0591, 0.2345, 0.2016],\n",
            "         [0.7638, 0.3896, 0.5299],\n",
            "         [0.1507, 0.4263, 0.2816]],\n",
            "\n",
            "        [[0.5781, 0.2893, 0.1218],\n",
            "         [0.5544, 0.7377, 0.2036],\n",
            "         [0.9718, 0.2110, 0.4500],\n",
            "         ...,\n",
            "         [0.4151, 0.7915, 0.3596],\n",
            "         [0.9970, 0.5229, 0.9105],\n",
            "         [0.7823, 0.9284, 0.6485]],\n",
            "\n",
            "        [[0.6766, 0.4927, 0.3779],\n",
            "         [0.0620, 0.2756, 0.9624],\n",
            "         [0.9886, 0.1290, 0.3393],\n",
            "         ...,\n",
            "         [0.6547, 0.6264, 0.5410],\n",
            "         [0.8486, 0.1014, 0.9861],\n",
            "         [0.6656, 0.7579, 0.9305]],\n",
            "\n",
            "        ...,\n",
            "\n",
            "        [[0.6408, 0.9971, 0.4971],\n",
            "         [0.6439, 0.6868, 0.4919],\n",
            "         [0.3138, 0.4212, 0.9657],\n",
            "         ...,\n",
            "         [0.7576, 0.3536, 0.4897],\n",
            "         [0.6165, 0.6483, 0.8948],\n",
            "         [0.0973, 0.5590, 0.3880]],\n",
            "\n",
            "        [[0.7332, 0.6768, 0.5422],\n",
            "         [0.1895, 0.8531, 0.2947],\n",
            "         [0.4262, 0.2851, 0.4670],\n",
            "         ...,\n",
            "         [0.1316, 0.2409, 0.2189],\n",
            "         [0.0929, 0.2677, 0.5223],\n",
            "         [0.0982, 0.7621, 0.3324]],\n",
            "\n",
            "        [[0.1606, 0.5415, 0.6619],\n",
            "         [0.4363, 0.3075, 0.2063],\n",
            "         [0.9792, 0.5550, 0.9247],\n",
            "         ...,\n",
            "         [0.8508, 0.0282, 0.6474],\n",
            "         [0.3719, 0.1917, 0.5551],\n",
            "         [0.1097, 0.2441, 0.4828]]]) tensor([0.6509, 0.0280, 0.6951, 0.4353, 0.3165, 0.4962, 0.9454, 0.2141, 0.8235,\n",
            "        0.0261, 0.6799, 0.9625, 0.1780, 0.5390, 0.8166, 0.2125, 0.8909, 0.4939,\n",
            "        0.1290, 0.3288, 0.2835, 0.9010, 0.9706, 0.6511, 0.9732, 0.3813, 0.1203,\n",
            "        0.8137, 0.1932, 0.9862, 0.0043, 0.5858, 0.9938, 0.0557, 0.2468, 0.7819,\n",
            "        0.0532, 0.3584, 0.6083, 0.5119, 0.0314, 0.9641, 0.5619, 0.1010, 0.1289,\n",
            "        0.9063, 0.3785, 0.9767, 0.0333, 0.8357, 0.3720, 0.2788, 0.3465, 0.2292,\n",
            "        0.2020, 0.5042, 0.5404, 0.1324, 0.2699, 0.2202, 0.2928, 0.5386, 0.5116,\n",
            "        0.6191, 0.5129, 0.1790, 0.4839, 0.1632, 0.5854, 0.5896, 0.4768, 0.3625,\n",
            "        0.0641, 0.5806, 0.8324, 0.3427, 0.4735, 0.3946, 0.5498, 0.0827, 0.5146,\n",
            "        0.2626, 0.0609, 0.1491, 0.2389, 0.6739, 0.6637, 0.9134, 0.2996, 0.0685,\n",
            "        0.5312, 0.3162, 0.2959, 0.6651, 0.5879, 0.7863, 0.1556, 0.2350, 0.2146,\n",
            "        0.1748, 0.5986, 0.8409, 0.2038, 0.1753, 0.8235, 0.1522, 0.8790, 0.8812,\n",
            "        0.0756, 0.4912, 0.0668, 0.6267, 0.5687, 0.0848, 0.2848, 0.7761, 0.7736,\n",
            "        0.8746, 0.5885, 0.4198, 0.7830, 0.2426, 0.0136, 0.7452, 0.5403, 0.5184,\n",
            "        0.3626, 0.8235, 0.5029, 0.3803, 0.4695, 0.1937, 0.4643, 0.5816, 0.7792,\n",
            "        0.5661, 0.2399, 0.0167, 0.3843, 0.8585, 0.9095, 0.4796, 0.9542, 0.3574,\n",
            "        0.7675, 0.9696, 0.1289, 0.8456, 0.4547, 0.5048, 0.8490, 0.2161, 0.3572,\n",
            "        0.5569, 0.4546, 0.5047, 0.8701, 0.3401, 0.2242, 0.1784, 0.6998, 0.8900,\n",
            "        0.4123, 0.4027, 0.8132, 0.0635, 0.4560, 0.5315, 0.6793, 0.0931, 0.5889,\n",
            "        0.6501, 0.7029, 0.0728, 0.3919, 0.9423, 0.3308, 0.1255, 0.2929, 0.5110,\n",
            "        0.7028, 0.6048, 0.9424, 0.8658, 0.7863, 0.6444, 0.5528, 0.0081, 0.9119,\n",
            "        0.1215, 0.9226, 0.4313, 0.4324, 0.1336, 0.2989, 0.2498, 0.5722, 0.4243,\n",
            "        0.4730, 0.7509, 0.2870, 0.8620, 0.9838, 0.0174, 0.3650, 0.0995, 0.7862,\n",
            "        0.3667, 0.8451, 0.4080, 0.5182, 0.3430, 0.9142, 0.6828, 0.3089, 0.2840,\n",
            "        0.3996, 0.1393, 0.4899, 0.1632, 0.1675, 0.0591, 0.7638, 0.1507])\n"
          ]
        }
      ]
    },
    {
      "cell_type": "code",
      "source": [
        "x_original[0,1,0]=12345\n",
        "x_permute[0,0,1]"
      ],
      "metadata": {
        "colab": {
          "base_uri": "https://localhost:8080/"
        },
        "id": "HM5sa6gWMhz0",
        "outputId": "3c91c2e8-0b14-47df-cfd8-f22533885b35"
      },
      "execution_count": 155,
      "outputs": [
        {
          "output_type": "execute_result",
          "data": {
            "text/plain": [
              "tensor(12345.)"
            ]
          },
          "metadata": {},
          "execution_count": 155
        }
      ]
    },
    {
      "cell_type": "markdown",
      "source": [
        "## Indexing (selecting data from tensors)\n",
        "\n",
        "Indexing with PyTorch is similar to indexing with NumPy"
      ],
      "metadata": {
        "id": "YQONsJi7QBQx"
      }
    },
    {
      "cell_type": "code",
      "source": [
        "# Create a tensor\n",
        "import torch\n",
        "x=torch.arange(1,10).reshape(1,3,3)\n",
        "x, x.shape"
      ],
      "metadata": {
        "colab": {
          "base_uri": "https://localhost:8080/"
        },
        "id": "AE7nWsY6RQAk",
        "outputId": "37956a79-9018-42d3-d7c0-19b5d6cee30e"
      },
      "execution_count": 156,
      "outputs": [
        {
          "output_type": "execute_result",
          "data": {
            "text/plain": [
              "(tensor([[[1, 2, 3],\n",
              "          [4, 5, 6],\n",
              "          [7, 8, 9]]]),\n",
              " torch.Size([1, 3, 3]))"
            ]
          },
          "metadata": {},
          "execution_count": 156
        }
      ]
    },
    {
      "cell_type": "code",
      "source": [
        "# let's index on our new tensor\n",
        "x[0]"
      ],
      "metadata": {
        "colab": {
          "base_uri": "https://localhost:8080/"
        },
        "id": "mS5uMBSsRiZb",
        "outputId": "7a0038d4-af34-4b4d-d686-0706ad6d7c5c"
      },
      "execution_count": 157,
      "outputs": [
        {
          "output_type": "execute_result",
          "data": {
            "text/plain": [
              "tensor([[1, 2, 3],\n",
              "        [4, 5, 6],\n",
              "        [7, 8, 9]])"
            ]
          },
          "metadata": {},
          "execution_count": 157
        }
      ]
    },
    {
      "cell_type": "code",
      "source": [
        "# let's index on the middle bracket (dim=1)\n",
        "x[0][0]"
      ],
      "metadata": {
        "colab": {
          "base_uri": "https://localhost:8080/"
        },
        "id": "5-1inGZfVws-",
        "outputId": "c7d26d73-30de-4b86-82c1-5576de37bd47"
      },
      "execution_count": 158,
      "outputs": [
        {
          "output_type": "execute_result",
          "data": {
            "text/plain": [
              "tensor([1, 2, 3])"
            ]
          },
          "metadata": {},
          "execution_count": 158
        }
      ]
    },
    {
      "cell_type": "code",
      "source": [
        "# let's index on the innermost bracket (dim=2)\n",
        "x[0][0][0]"
      ],
      "metadata": {
        "colab": {
          "base_uri": "https://localhost:8080/"
        },
        "id": "6gLJdcZHV8GP",
        "outputId": "44d78932-bec8-49ed-97df-30b0bc18c147"
      },
      "execution_count": 159,
      "outputs": [
        {
          "output_type": "execute_result",
          "data": {
            "text/plain": [
              "tensor(1)"
            ]
          },
          "metadata": {},
          "execution_count": 159
        }
      ]
    },
    {
      "cell_type": "code",
      "source": [
        "x[0,:,2]"
      ],
      "metadata": {
        "colab": {
          "base_uri": "https://localhost:8080/"
        },
        "id": "QzgUAmLJf1YY",
        "outputId": "b20bd41c-be8f-45fe-c8ad-734e204e0b2b"
      },
      "execution_count": 160,
      "outputs": [
        {
          "output_type": "execute_result",
          "data": {
            "text/plain": [
              "tensor([3, 6, 9])"
            ]
          },
          "metadata": {},
          "execution_count": 160
        }
      ]
    },
    {
      "cell_type": "markdown",
      "source": [
        "## PyTorch Tensors & NumPy\n",
        "\n",
        "NumPy is a popular  scientific Python numerical computing library.\n",
        "\n",
        "And because of this, PyTorch has functionality to interact with it.\n",
        "\n",
        "* Data in NumPy, want in PyTorch tensor -> `torch.from_numpy(ndarray)`\n",
        "* PyTorch tensor -> NumPy -> `torch.Tensor.numpy()`"
      ],
      "metadata": {
        "id": "ha8asGG5gdXq"
      }
    },
    {
      "cell_type": "code",
      "source": [
        "#Numpy array to tensor\n",
        "import torch\n",
        "import numpy as np\n",
        "\n",
        "array = np.arange(1.0,8.0)\n",
        "tensor = torch.from_numpy(array)# warning: when converting from numpy -> pytorch, pytorch refelects nupy a default datatype of float64 unless specified otherwise\n",
        "array, tensor"
      ],
      "metadata": {
        "colab": {
          "base_uri": "https://localhost:8080/"
        },
        "id": "SBsqlTPxmZBu",
        "outputId": "5da584ac-47ae-4536-aa45-ba633608e6a1"
      },
      "execution_count": 161,
      "outputs": [
        {
          "output_type": "execute_result",
          "data": {
            "text/plain": [
              "(array([1., 2., 3., 4., 5., 6., 7.]),\n",
              " tensor([1., 2., 3., 4., 5., 6., 7.], dtype=torch.float64))"
            ]
          },
          "metadata": {},
          "execution_count": 161
        }
      ]
    },
    {
      "cell_type": "code",
      "source": [
        "# Change the value of array\n",
        "array=array+1\n",
        "array, tensor"
      ],
      "metadata": {
        "colab": {
          "base_uri": "https://localhost:8080/"
        },
        "id": "xcEAAmjcmzSI",
        "outputId": "fc760055-76f3-4bf8-caca-6ff9707b7137"
      },
      "execution_count": 162,
      "outputs": [
        {
          "output_type": "execute_result",
          "data": {
            "text/plain": [
              "(array([2., 3., 4., 5., 6., 7., 8.]),\n",
              " tensor([1., 2., 3., 4., 5., 6., 7.], dtype=torch.float64))"
            ]
          },
          "metadata": {},
          "execution_count": 162
        }
      ]
    },
    {
      "cell_type": "code",
      "source": [
        "#Tensor to NumPy\n",
        "tensor = torch.ones(7)\n",
        "numpy_tensor = tensor.numpy()\n",
        "tensor, numpy_tensor"
      ],
      "metadata": {
        "colab": {
          "base_uri": "https://localhost:8080/"
        },
        "id": "selbDlo6n6_g",
        "outputId": "d4f5d4ae-64c0-44b8-bd9b-1d7424269db1"
      },
      "execution_count": 163,
      "outputs": [
        {
          "output_type": "execute_result",
          "data": {
            "text/plain": [
              "(tensor([1., 1., 1., 1., 1., 1., 1.]),\n",
              " array([1., 1., 1., 1., 1., 1., 1.], dtype=float32))"
            ]
          },
          "metadata": {},
          "execution_count": 163
        }
      ]
    },
    {
      "cell_type": "code",
      "source": [
        "# Change the value of tensor\n",
        "tensor=tensor+1\n",
        "numpy_tensor, tensor"
      ],
      "metadata": {
        "colab": {
          "base_uri": "https://localhost:8080/"
        },
        "id": "OOC2SwQcoSz9",
        "outputId": "42997e67-e5b0-41fd-bd98-10ad41e29a43"
      },
      "execution_count": 164,
      "outputs": [
        {
          "output_type": "execute_result",
          "data": {
            "text/plain": [
              "(array([1., 1., 1., 1., 1., 1., 1.], dtype=float32),\n",
              " tensor([2., 2., 2., 2., 2., 2., 2.]))"
            ]
          },
          "metadata": {},
          "execution_count": 164
        }
      ]
    },
    {
      "cell_type": "markdown",
      "source": [
        "## Reproducbility (trying to take random out of random)\n",
        "\n",
        "In short how a neural network learns:\n",
        "\n",
        "`start with random numbers -> tensor operations -> update random numbers to try and make them better representation of the data -> again -> again -> again...`\n",
        "To reduce the randomness in neural networks annd PyTorch the concept of a **random seed**\n",
        "\n",
        "Essentially what the random seed does is \"flavour\" the randomness."
      ],
      "metadata": {
        "id": "IAF9eMqfollc"
      }
    },
    {
      "cell_type": "code",
      "source": [
        "import torch\n",
        "\n",
        "# Create two random tensors\n",
        "r_t_a = torch.rand(3,4)\n",
        "r_t_b = torch.rand(3,4)\n",
        "r_t_a,r_t_b,r_t_a==r_t_b"
      ],
      "metadata": {
        "colab": {
          "base_uri": "https://localhost:8080/"
        },
        "id": "cjZ5sLMapnAA",
        "outputId": "ae75b190-960c-4fd2-8a4b-5cd831d269f0"
      },
      "execution_count": 165,
      "outputs": [
        {
          "output_type": "execute_result",
          "data": {
            "text/plain": [
              "(tensor([[0.2946, 0.4927, 0.1327, 0.3688],\n",
              "         [0.6080, 0.8430, 0.2695, 0.3086],\n",
              "         [0.9538, 0.6358, 0.2506, 0.3042]]),\n",
              " tensor([[0.7766, 0.7982, 0.0143, 0.0716],\n",
              "         [0.5590, 0.3050, 0.0025, 0.4465],\n",
              "         [0.6931, 0.1049, 0.1234, 0.2569]]),\n",
              " tensor([[False, False, False, False],\n",
              "         [False, False, False, False],\n",
              "         [False, False, False, False]]))"
            ]
          },
          "metadata": {},
          "execution_count": 165
        }
      ]
    },
    {
      "cell_type": "code",
      "source": [
        "# let's make some random but reproducable tensors\n",
        "import torch\n",
        "\n",
        "# set the random seed\n",
        "RANDOM_SEED = 42\n",
        "torch.manual_seed(RANDOM_SEED)#it only works for the first next line of code where it has a use\n",
        "random_tensor_c = torch.rand(3,4)\n",
        "torch.manual_seed(RANDOM_SEED)\n",
        "random_tensor_d = torch.rand(3,4)\n",
        "\n",
        "random_tensor_c, random_tensor_d, random_tensor_c==random_tensor_d"
      ],
      "metadata": {
        "colab": {
          "base_uri": "https://localhost:8080/"
        },
        "id": "eAjtc9-2pp3B",
        "outputId": "bfb7fc46-729c-4fc2-e35f-361deb45df12"
      },
      "execution_count": 166,
      "outputs": [
        {
          "output_type": "execute_result",
          "data": {
            "text/plain": [
              "(tensor([[0.8823, 0.9150, 0.3829, 0.9593],\n",
              "         [0.3904, 0.6009, 0.2566, 0.7936],\n",
              "         [0.9408, 0.1332, 0.9346, 0.5936]]),\n",
              " tensor([[0.8823, 0.9150, 0.3829, 0.9593],\n",
              "         [0.3904, 0.6009, 0.2566, 0.7936],\n",
              "         [0.9408, 0.1332, 0.9346, 0.5936]]),\n",
              " tensor([[True, True, True, True],\n",
              "         [True, True, True, True],\n",
              "         [True, True, True, True]]))"
            ]
          },
          "metadata": {},
          "execution_count": 166
        }
      ]
    },
    {
      "cell_type": "markdown",
      "source": [
        "Extra resource for reproducibility:\n",
        "* https://pytorch.org/docs/stable/notes/randomness.html\n",
        "* https://en.wikipedia.org/wiki/Random_seed"
      ],
      "metadata": {
        "id": "dtpMifVAdfVK"
      }
    },
    {
      "cell_type": "markdown",
      "source": [
        "## Running tensors and PyTorch objects on the GPUs (and making faster computation)\n",
        "\n",
        "GPUs = faster computation on numbers, thanks to CUDA + NVIDIA hardware + PyTorch working behind the scene to make everything hunky dory(good)."
      ],
      "metadata": {
        "id": "Mwni4LRLnrXG"
      }
    },
    {
      "cell_type": "markdown",
      "source": [
        "### 1. Getting a GPU\n",
        "\n",
        "1. Easiest - Use Google Colab for a free GPU (options to upgrade as well)\n",
        "2. Use your own GPU\n",
        "3. Use Cloud Computing - GCP, AWS, Azure, these services alloe you to rent computer on the cloud and access them"
      ],
      "metadata": {
        "id": "w5bea6zlogsR"
      }
    },
    {
      "cell_type": "code",
      "source": [
        "!nvidia-smi"
      ],
      "metadata": {
        "colab": {
          "base_uri": "https://localhost:8080/"
        },
        "id": "b-bBni7jrZuc",
        "outputId": "0405f9e3-b5e0-4295-a39c-3a4a32aa0ca0"
      },
      "execution_count": 179,
      "outputs": [
        {
          "output_type": "stream",
          "name": "stdout",
          "text": [
            "/bin/bash: line 1: nvidia-smi: command not found\n"
          ]
        }
      ]
    },
    {
      "cell_type": "markdown",
      "source": [
        "### 2. Check for GPU access with PyTorch"
      ],
      "metadata": {
        "id": "cvp0GZu4pbfX"
      }
    },
    {
      "cell_type": "code",
      "source": [
        "import torch\n",
        "torch.cuda.is_available()"
      ],
      "metadata": {
        "colab": {
          "base_uri": "https://localhost:8080/"
        },
        "id": "MMFT2FvGqJP9",
        "outputId": "f98e42f9-39a4-4b93-af90-378c4f45928f"
      },
      "execution_count": 168,
      "outputs": [
        {
          "output_type": "execute_result",
          "data": {
            "text/plain": [
              "False"
            ]
          },
          "metadata": {},
          "execution_count": 168
        }
      ]
    },
    {
      "cell_type": "markdown",
      "source": [
        "For Pytorch since it's capable of running copute on the GPU or CPU, it's best practice to setup device agnostic code:https://pytorch.org/docs/stable/notes/cuda.html#best-practices\n",
        "\n",
        "E.g. run on GPU if available, else default to CPU"
      ],
      "metadata": {
        "id": "iq5chOfovQS6"
      }
    },
    {
      "cell_type": "code",
      "source": [
        "# setup device agnostic code\n",
        "device = \"cuda\" if torch.cuda.is_available() else \"cpu\"\n",
        "device"
      ],
      "metadata": {
        "colab": {
          "base_uri": "https://localhost:8080/",
          "height": 36
        },
        "id": "FyU18-j4qVj3",
        "outputId": "9017858a-30e9-4c95-86cd-a94e00cdca3b"
      },
      "execution_count": 169,
      "outputs": [
        {
          "output_type": "execute_result",
          "data": {
            "text/plain": [
              "'cpu'"
            ],
            "application/vnd.google.colaboratory.intrinsic+json": {
              "type": "string"
            }
          },
          "metadata": {},
          "execution_count": 169
        }
      ]
    },
    {
      "cell_type": "code",
      "source": [
        "# count number of devices\n",
        "torch.cuda.device_count()"
      ],
      "metadata": {
        "colab": {
          "base_uri": "https://localhost:8080/"
        },
        "id": "8N-jl6CDuwrQ",
        "outputId": "c4534fb4-70d3-4d3c-f3fc-1e697fcd1b54"
      },
      "execution_count": 170,
      "outputs": [
        {
          "output_type": "execute_result",
          "data": {
            "text/plain": [
              "0"
            ]
          },
          "metadata": {},
          "execution_count": 170
        }
      ]
    },
    {
      "cell_type": "markdown",
      "source": [
        "## 3. Putting tensors and the models on the GPU\n",
        "\n",
        "To get faster computations."
      ],
      "metadata": {
        "id": "AaXV11eTu28e"
      }
    },
    {
      "cell_type": "code",
      "source": [
        "tensor = torch.tensor([1,2,3])\n",
        "\n",
        "#tensor not on GPU\n",
        "print(tensor, tensor.device)"
      ],
      "metadata": {
        "colab": {
          "base_uri": "https://localhost:8080/"
        },
        "id": "NBUhqYstwcxU",
        "outputId": "2e662f7b-502b-42d2-cdc1-109e43c9449f"
      },
      "execution_count": 171,
      "outputs": [
        {
          "output_type": "stream",
          "name": "stdout",
          "text": [
            "tensor([1, 2, 3]) cpu\n"
          ]
        }
      ]
    },
    {
      "cell_type": "code",
      "source": [
        "# Move tensor to GPU (if available)\n",
        "tensor_on_gpu=tensor.to(device)\n",
        "tensor_on_gpu, tensor_on_gpu.device"
      ],
      "metadata": {
        "colab": {
          "base_uri": "https://localhost:8080/"
        },
        "id": "kqFRouP9w-VR",
        "outputId": "341eb2de-e816-4a42-d693-2b38c7f6ffd7"
      },
      "execution_count": 172,
      "outputs": [
        {
          "output_type": "execute_result",
          "data": {
            "text/plain": [
              "(tensor([1, 2, 3]), device(type='cpu'))"
            ]
          },
          "metadata": {},
          "execution_count": 172
        }
      ]
    },
    {
      "cell_type": "markdown",
      "source": [
        "### 4. Moving tensors back to CPU"
      ],
      "metadata": {
        "id": "SU-0hkcGxerP"
      }
    },
    {
      "cell_type": "code",
      "source": [
        "# If tensor is on GPU, can't transform it to NumPy\n",
        "tensor_on_gpu.numpy()"
      ],
      "metadata": {
        "colab": {
          "base_uri": "https://localhost:8080/"
        },
        "id": "FtwcwGBdzswC",
        "outputId": "47c1d337-aa58-4ae7-ad82-a10b3a105eed"
      },
      "execution_count": 175,
      "outputs": [
        {
          "output_type": "execute_result",
          "data": {
            "text/plain": [
              "array([1, 2, 3])"
            ]
          },
          "metadata": {},
          "execution_count": 175
        }
      ]
    },
    {
      "cell_type": "code",
      "source": [
        "# To fix the GPU tensor with Numpy issue, we can first set it to the CPU\n",
        "tensor_back_on_cpu = tensor_on_gpu.cpu().numpy()\n",
        "tensor_back_on_cpu"
      ],
      "metadata": {
        "colab": {
          "base_uri": "https://localhost:8080/"
        },
        "id": "Cj3g7ZtV4CAH",
        "outputId": "1a259bff-ae34-4511-e949-e4050880e0cc"
      },
      "execution_count": 177,
      "outputs": [
        {
          "output_type": "execute_result",
          "data": {
            "text/plain": [
              "array([1, 2, 3])"
            ]
          },
          "metadata": {},
          "execution_count": 177
        }
      ]
    },
    {
      "cell_type": "code",
      "source": [
        "tensor_on_gpu"
      ],
      "metadata": {
        "colab": {
          "base_uri": "https://localhost:8080/"
        },
        "id": "F2dmA1Wv4sWE",
        "outputId": "8775e2bf-200a-45a0-dedd-b7c3eaf92d8c"
      },
      "execution_count": 180,
      "outputs": [
        {
          "output_type": "execute_result",
          "data": {
            "text/plain": [
              "tensor([1, 2, 3])"
            ]
          },
          "metadata": {},
          "execution_count": 180
        }
      ]
    },
    {
      "cell_type": "markdown",
      "source": [
        "## Exercises & Extra-curriculum\n",
        "\n",
        "https://www.learnpytorch.io/00_pytorch_fundamentals/#exercises"
      ],
      "metadata": {
        "id": "LMSqchjF5pIB"
      }
    },
    {
      "cell_type": "code",
      "source": [],
      "metadata": {
        "id": "fHTo89-l6J7u"
      },
      "execution_count": null,
      "outputs": []
    }
  ],
  "metadata": {
    "accelerator": "GPU",
    "colab": {
      "gpuType": "T4",
      "provenance": [],
      "collapsed_sections": [
        "POev783lsVXM"
      ]
    },
    "kernelspec": {
      "display_name": "Python 3",
      "name": "python3"
    },
    "language_info": {
      "name": "python"
    }
  },
  "nbformat": 4,
  "nbformat_minor": 0
}