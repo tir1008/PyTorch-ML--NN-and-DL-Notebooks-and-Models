{
  "nbformat": 4,
  "nbformat_minor": 0,
  "metadata": {
    "colab": {
      "provenance": [],
      "gpuType": "T4"
    },
    "kernelspec": {
      "name": "python3",
      "display_name": "Python 3"
    },
    "language_info": {
      "name": "python"
    },
    "accelerator": "GPU"
  },
  "cells": [
    {
      "cell_type": "markdown",
      "source": [
        "## PyTorch Workflow\n",
        "\n",
        "Resources:\n",
        "* notebook - https://github.com/mrdbourke/pytorch-deep-learning/blob/main/01_pytorch_workflow.ipynb\n",
        "* Book version - https://www.learnpytorch.io/01_pytorch_workflow/\n",
        "* Question - https://github.com/mrdbourke/pytorch-deep-learning/discussions"
      ],
      "metadata": {
        "id": "4AYO9waRAKiD"
      }
    },
    {
      "cell_type": "code",
      "source": [
        "What_were_covering = {1:\"data (prepare and load)\",\n",
        "                      2:\"build model\",\n",
        "                      3:\"fitting the model to data (training)\",\n",
        "                      4:\"making predictions and evaluating a model (inference)\",\n",
        "                      5:\"saving and loading a model\",\n",
        "                      6:\"putting it all together\"}\n",
        "\n",
        "What_were_covering"
      ],
      "metadata": {
        "colab": {
          "base_uri": "https://localhost:8080/"
        },
        "id": "YAtq6GVADiDN",
        "outputId": "f1f91fc8-cd69-46ee-bf54-9d4c7efe3044"
      },
      "execution_count": 182,
      "outputs": [
        {
          "output_type": "execute_result",
          "data": {
            "text/plain": [
              "{1: 'data (prepare and load)',\n",
              " 2: 'build model',\n",
              " 3: 'fitting the model to data (training)',\n",
              " 4: 'making predictions and evaluating a model (inference)',\n",
              " 5: 'saving and loading a model',\n",
              " 6: 'putting it all together'}"
            ]
          },
          "metadata": {},
          "execution_count": 182
        }
      ]
    },
    {
      "cell_type": "code",
      "source": [
        "import torch\n",
        "from torch import nn #nn contains all of PyTorch's building blocks for neural networks\n",
        "import matplotlib.pyplot as plt\n",
        "\n",
        "#Check PyTorch version\n",
        "torch.__version__"
      ],
      "metadata": {
        "colab": {
          "base_uri": "https://localhost:8080/",
          "height": 36
        },
        "id": "Sg8nzT4CE0cp",
        "outputId": "a6fec956-5841-4473-e60b-3c59abe41c38"
      },
      "execution_count": 183,
      "outputs": [
        {
          "output_type": "execute_result",
          "data": {
            "text/plain": [
              "'2.3.0+cu121'"
            ],
            "application/vnd.google.colaboratory.intrinsic+json": {
              "type": "string"
            }
          },
          "metadata": {},
          "execution_count": 183
        }
      ]
    },
    {
      "cell_type": "markdown",
      "source": [
        "### Data Prepearing and Loading\n",
        "\n",
        "Data E.g.:\n",
        "* Images\n",
        "* Videos\n",
        "* Audio\n",
        "* DNA\n",
        "* Text\n",
        "\n",
        "ML is game of 2 parts:\n",
        "1. Get data into numerical representation.\n",
        "2. Build a model to learn patterns in that numerical representation."
      ],
      "metadata": {
        "id": "W9TsLdJOGiiC"
      }
    },
    {
      "cell_type": "code",
      "source": [
        "# Create *known* parameters\n",
        "weight = 0.7\n",
        "bias = 0.3\n",
        "\n",
        "start = 0\n",
        "end = 1\n",
        "step = 0.02\n",
        "X = torch.arange(start,end,step).unsqueeze(dim=1)\n",
        "y = weight*X + bias\n",
        "\n",
        "X[:10], y[:10], len(X), len(y) # \"start:end\" this sign represents from \"start\" to \"end\" like here from X.begin() to 10 means first 10 elements"
      ],
      "metadata": {
        "colab": {
          "base_uri": "https://localhost:8080/"
        },
        "id": "lROoprJOG9vO",
        "outputId": "cad0bd66-6e37-4aa8-d344-d88b3ebca46a"
      },
      "execution_count": 184,
      "outputs": [
        {
          "output_type": "execute_result",
          "data": {
            "text/plain": [
              "(tensor([[0.0000],\n",
              "         [0.0200],\n",
              "         [0.0400],\n",
              "         [0.0600],\n",
              "         [0.0800],\n",
              "         [0.1000],\n",
              "         [0.1200],\n",
              "         [0.1400],\n",
              "         [0.1600],\n",
              "         [0.1800]]),\n",
              " tensor([[0.3000],\n",
              "         [0.3140],\n",
              "         [0.3280],\n",
              "         [0.3420],\n",
              "         [0.3560],\n",
              "         [0.3700],\n",
              "         [0.3840],\n",
              "         [0.3980],\n",
              "         [0.4120],\n",
              "         [0.4260]]),\n",
              " 50,\n",
              " 50)"
            ]
          },
          "metadata": {},
          "execution_count": 184
        }
      ]
    },
    {
      "cell_type": "markdown",
      "source": [
        "#### Spliting data into training and test sets"
      ],
      "metadata": {
        "id": "0wyje4Z0JeFL"
      }
    },
    {
      "cell_type": "code",
      "source": [
        "#Create a train/test split\n",
        "train_split = int(0.8*len(X))\n",
        "X_train, y_train = X[:train_split], y[:train_split]\n",
        "X_test, y_test = X[train_split:], y[train_split:]\n",
        "\n",
        "len(X_train), len(y_train), len(X_test), len(y_test)"
      ],
      "metadata": {
        "colab": {
          "base_uri": "https://localhost:8080/"
        },
        "id": "pL2CO1naSe77",
        "outputId": "4d4204cb-aec1-4a81-fc17-c95caeee39a1"
      },
      "execution_count": 185,
      "outputs": [
        {
          "output_type": "execute_result",
          "data": {
            "text/plain": [
              "(40, 40, 10, 10)"
            ]
          },
          "metadata": {},
          "execution_count": 185
        }
      ]
    },
    {
      "cell_type": "code",
      "source": [
        "def plot_predictions(train_data=X_train,\n",
        "                     train_labels=y_train,\n",
        "                     test_data=X_test,\n",
        "                     test_labels=y_test,\n",
        "                     predictions=None):\n",
        "  \"\"\"\n",
        "  Plots training data, test data and compares predictions.\n",
        "  \"\"\"\n",
        "  plt.figure(figsize=(10,7))\n",
        "  #Plot training data in blue\n",
        "  plt.scatter(train_data, train_labels, c=\"b\", s=4, label=\"Training data\")\n",
        "\n",
        "  #Plot test data in green\n",
        "  plt.scatter(test_data, test_labels, c=\"g\", s=4, label=\"Testing data\")\n",
        "\n",
        "  #Are there predictions?\n",
        "  if predictions is not None:\n",
        "    #Plot the predictions if they exist\n",
        "    plt.scatter(test_data, predictions, c=\"r\", s=4, label=\"Predictions\")\n",
        "\n",
        "  #Show the legend\n",
        "  plt.legend(prop={\"size\":14})"
      ],
      "metadata": {
        "collapsed": true,
        "id": "5fO_fuH0UK8o"
      },
      "execution_count": 186,
      "outputs": []
    },
    {
      "cell_type": "code",
      "source": [
        "plot_predictions()"
      ],
      "metadata": {
        "colab": {
          "base_uri": "https://localhost:8080/",
          "height": 599
        },
        "id": "IVnt2BCcUhJH",
        "outputId": "5283eb30-0fd2-489d-fe79-559210f5d602"
      },
      "execution_count": 187,
      "outputs": [
        {
          "output_type": "display_data",
          "data": {
            "text/plain": [
              "<Figure size 1000x700 with 1 Axes>"
            ],
            "image/png": "[encoded data removed]"
          },
          "metadata": {}
        }
      ]
    },
    {
      "cell_type": "markdown",
      "source": [
        "## 2. Build Model\n",
        "\n",
        "what our model does:\n",
        "* Start with random values (weight & bias)\n",
        "*Look at training data and adjust the random values to better represent (or get closer to) the ideal values (the weight & bias values we used to create the data)\n",
        "\n",
        "How does it do so?\n",
        "\n",
        "Through two main algorithms:\n",
        "1. Gradient descent - https://youtu.be/IHZwWFHWa-w\n",
        "2. Backpropogation - https://youtu.be/Ilg3gGewQ5U"
      ],
      "metadata": {
        "id": "EQG73cQgX63o"
      }
    },
    {
      "cell_type": "code",
      "source": [
        "from torch import nn\n",
        "# create a linear regression model class\n",
        "class LinearRegressionModel(nn.Module):# almost everything in PyTorch inherits from nn.Module\n",
        "  def __init__(self):\n",
        "    super().__init__()\n",
        "    # Initialize model parameters\n",
        "    self.weights=nn.Parameter(torch.randn(1,# start with a random weight and try to adjust it to the ideal weight\n",
        "                                          requires_grad=True,# can this parameter be updated via gradient descent?\n",
        "                                          dtype=torch.float))\n",
        "    self.bias = nn.Parameter(torch.randn(1,\n",
        "                                         requires_grad=True,# start with a random weight and try to adjust it to the ideal bias\n",
        "                                         dtype=torch.float))\n",
        "  #Froward method to define the computation in the model to be performed at every call\n",
        "  def forward(self, x:torch.Tensor)->torch.Tensor:# \"x\" is the input data\n",
        "    return self.weights*x+self.bias #this is the linear regression formula"
      ],
      "metadata": {
        "id": "01RFuLrJY0Dp"
      },
      "execution_count": 188,
      "outputs": []
    },
    {
      "cell_type": "markdown",
      "source": [
        "### PyTorch model building essentials\n",
        "\n",
        "* torch.nn - contains all of the buildings for computational graphs(a neural network ca be considered a computational graph)\n",
        "* torch.nn.Parameter - what parameter should our model try and learn, often a PyTorch layer from torch.nn will set these for us\n",
        "* torch.nn.Module - The base class for all neural network modules, if you subclass it, you should overwrite forward()\n",
        "* torch.optim - this where the optimizers in PyTorch live, they will help with gardient descent.\n",
        "* def forward() - All nn.Module subclasses require you to overwrite forward(), this method define what happens in the forword computation."
      ],
      "metadata": {
        "id": "j_RDrfNmiQnj"
      }
    },
    {
      "cell_type": "markdown",
      "source": [
        "### Checking the contents of our PyTorch model\n",
        "\n",
        "So we can check our model parameters or what's inside our model using .parameters()."
      ],
      "metadata": {
        "id": "9Y3z8KnP9t8m"
      }
    },
    {
      "cell_type": "code",
      "source": [
        "# Create a random seed\n",
        "torch.manual_seed(42)\n",
        "\n",
        "#Create an instance of the model (this is a subclass of nn.Module)\n",
        "model_0 = LinearRegressionModel()\n",
        "\n",
        "model_0, list(model_0.parameters())"
      ],
      "metadata": {
        "colab": {
          "base_uri": "https://localhost:8080/"
        },
        "id": "6C0kJd-O-RBT",
        "outputId": "c80ad66e-d072-48f2-bcee-bcf70ac3c3a7"
      },
      "execution_count": 189,
      "outputs": [
        {
          "output_type": "execute_result",
          "data": {
            "text/plain": [
              "(LinearRegressionModel(),\n",
              " [Parameter containing:\n",
              "  tensor([0.3367], requires_grad=True),\n",
              "  Parameter containing:\n",
              "  tensor([0.1288], requires_grad=True)])"
            ]
          },
          "metadata": {},
          "execution_count": 189
        }
      ]
    },
    {
      "cell_type": "code",
      "source": [
        "# List named parameters\n",
        "model_0.state_dict()"
      ],
      "metadata": {
        "colab": {
          "base_uri": "https://localhost:8080/"
        },
        "id": "G2i2ZeLe-8vZ",
        "outputId": "7e95fc94-ec8a-49f4-f04e-65ac8da10742"
      },
      "execution_count": 190,
      "outputs": [
        {
          "output_type": "execute_result",
          "data": {
            "text/plain": [
              "OrderedDict([('weights', tensor([0.3367])), ('bias', tensor([0.1288]))])"
            ]
          },
          "metadata": {},
          "execution_count": 190
        }
      ]
    },
    {
      "cell_type": "markdown",
      "source": [
        "### Making prediction using `torch.inference_mode()`\n",
        "\n",
        "To check our model's predictive power, let's see how well it predicts `y_test` based on `X_test`.\n",
        "\n",
        "When we pass data through our model, it's going to run it through the forward() method."
      ],
      "metadata": {
        "id": "XPg2YicfBL57"
      }
    },
    {
      "cell_type": "code",
      "source": [
        "y_preds = model_0(X_test)\n",
        "\n",
        "y_preds"
      ],
      "metadata": {
        "colab": {
          "base_uri": "https://localhost:8080/"
        },
        "id": "OAgBwFrtORG9",
        "outputId": "77677806-63c8-4ad3-cc42-b22a8352bc9a"
      },
      "execution_count": 191,
      "outputs": [
        {
          "output_type": "execute_result",
          "data": {
            "text/plain": [
              "tensor([[0.3982],\n",
              "        [0.4049],\n",
              "        [0.4116],\n",
              "        [0.4184],\n",
              "        [0.4251],\n",
              "        [0.4318],\n",
              "        [0.4386],\n",
              "        [0.4453],\n",
              "        [0.4520],\n",
              "        [0.4588]], grad_fn=<AddBackward0>)"
            ]
          },
          "metadata": {},
          "execution_count": 191
        }
      ]
    },
    {
      "cell_type": "code",
      "source": [
        "#Make predictions with model\n",
        "with torch.inference_mode():# in inference mode grad_fn is turned off as we are doing predictions so it does not requere any gradient for it, so it reduces calculation thereby decreasing time of execution for large data\n",
        "  y_preds = model_0(X_test)\n",
        "\n",
        "y_preds"
      ],
      "metadata": {
        "colab": {
          "base_uri": "https://localhost:8080/"
        },
        "id": "2IcM_o6sDjvo",
        "outputId": "626947f4-99c4-413a-e287-f1d11d2821c5"
      },
      "execution_count": 192,
      "outputs": [
        {
          "output_type": "execute_result",
          "data": {
            "text/plain": [
              "tensor([[0.3982],\n",
              "        [0.4049],\n",
              "        [0.4116],\n",
              "        [0.4184],\n",
              "        [0.4251],\n",
              "        [0.4318],\n",
              "        [0.4386],\n",
              "        [0.4453],\n",
              "        [0.4520],\n",
              "        [0.4588]])"
            ]
          },
          "metadata": {},
          "execution_count": 192
        }
      ]
    },
    {
      "cell_type": "code",
      "source": [
        "y_test"
      ],
      "metadata": {
        "colab": {
          "base_uri": "https://localhost:8080/"
        },
        "id": "uHf8tp5NJ0_D",
        "outputId": "44d26ec9-d07c-497e-95a8-c2173fd81f45"
      },
      "execution_count": 193,
      "outputs": [
        {
          "output_type": "execute_result",
          "data": {
            "text/plain": [
              "tensor([[0.8600],\n",
              "        [0.8740],\n",
              "        [0.8880],\n",
              "        [0.9020],\n",
              "        [0.9160],\n",
              "        [0.9300],\n",
              "        [0.9440],\n",
              "        [0.9580],\n",
              "        [0.9720],\n",
              "        [0.9860]])"
            ]
          },
          "metadata": {},
          "execution_count": 193
        }
      ]
    },
    {
      "cell_type": "code",
      "source": [
        "plot_predictions(predictions=y_preds)"
      ],
      "metadata": {
        "colab": {
          "base_uri": "https://localhost:8080/",
          "height": 599
        },
        "id": "YhZ4iuKCNIUz",
        "outputId": "c090b2d2-4782-49a0-9418-6587b6ca5d42"
      },
      "execution_count": 194,
      "outputs": [
        {
          "output_type": "display_data",
          "data": {
            "text/plain": [
              "<Figure size 1000x700 with 1 Axes>"
            ],
            "image/png": "[encoded data removed]"
          },
          "metadata": {}
        }
      ]
    },
    {
      "cell_type": "markdown",
      "source": [
        "## 3. Train model\n",
        "\n",
        "The whole idea of training is for a model to move from some *unknown* parameters (these may be random) to some *know* parameters.\n",
        "\n",
        "Or in other words from a poor representation to a better representation of data.\n",
        "\n",
        "One way to measure how poor or how wrong your models predictions  are is to use a loss function.\n",
        "\n",
        "* Note : Loss function may be called cost function or criterion in different areas. For our case we're going to refer it as loss function.\n",
        "\n",
        "Things we need to train:\n",
        "\n",
        "* **Loss Function:** A function to measure how wrong your model's prediction are to the ideal outputs, lower is better.\n",
        "\n",
        "* **Optimizer:** Takes into account the loss of a model and adjusts the model's parameters(e.g. weight & bias in our case) to improve the loss function. https://pytorch.org/docs/stable/optim.html\n",
        "\n",
        "And specifically for PyTorch, we need:\n",
        "* A training loop\n",
        "* A testing loop"
      ],
      "metadata": {
        "id": "xINscRvWNWhi"
      }
    },
    {
      "cell_type": "code",
      "source": [
        "list(model_0.parameters())"
      ],
      "metadata": {
        "colab": {
          "base_uri": "https://localhost:8080/"
        },
        "id": "KYBq807rWOvr",
        "outputId": "4e5af9a6-8312-4412-d5e3-9771afaad02e"
      },
      "execution_count": 195,
      "outputs": [
        {
          "output_type": "execute_result",
          "data": {
            "text/plain": [
              "[Parameter containing:\n",
              " tensor([0.3367], requires_grad=True),\n",
              " Parameter containing:\n",
              " tensor([0.1288], requires_grad=True)]"
            ]
          },
          "metadata": {},
          "execution_count": 195
        }
      ]
    },
    {
      "cell_type": "code",
      "source": [
        "# Check out our model's parameters (a parameter is a value that the model sets itself)\n",
        "model_0.state_dict()"
      ],
      "metadata": {
        "colab": {
          "base_uri": "https://localhost:8080/"
        },
        "id": "dElFavLdWW1k",
        "outputId": "67eb2dd2-29d7-4424-eaac-33c2cf8d4de1"
      },
      "execution_count": 196,
      "outputs": [
        {
          "output_type": "execute_result",
          "data": {
            "text/plain": [
              "OrderedDict([('weights', tensor([0.3367])), ('bias', tensor([0.1288]))])"
            ]
          },
          "metadata": {},
          "execution_count": 196
        }
      ]
    },
    {
      "cell_type": "code",
      "source": [
        "# Setup a loss function\n",
        "loss_fn = nn.L1Loss()\n",
        "\n",
        "# Setup an optimizer (Stochastic gradient descent)\n",
        "optimizer = torch.optim.SGD(params=model_0.parameters(),\n",
        "                            lr=0.01)# lr=learning rate = possibly the most important hyperparameter you can set"
      ],
      "metadata": {
        "id": "i3-OOH6qWtPb"
      },
      "execution_count": 197,
      "outputs": []
    },
    {
      "cell_type": "code",
      "source": [
        "loss_fn, optimizer"
      ],
      "metadata": {
        "colab": {
          "base_uri": "https://localhost:8080/"
        },
        "id": "7a9Lb7YwZVi6",
        "outputId": "27a61abd-8299-4cb0-d000-b739587107b4"
      },
      "execution_count": 198,
      "outputs": [
        {
          "output_type": "execute_result",
          "data": {
            "text/plain": [
              "(L1Loss(),\n",
              " SGD (\n",
              " Parameter Group 0\n",
              "     dampening: 0\n",
              "     differentiable: False\n",
              "     foreach: None\n",
              "     fused: None\n",
              "     lr: 0.01\n",
              "     maximize: False\n",
              "     momentum: 0\n",
              "     nesterov: False\n",
              "     weight_decay: 0\n",
              " ))"
            ]
          },
          "metadata": {},
          "execution_count": 198
        }
      ]
    },
    {
      "cell_type": "markdown",
      "source": [
        "**Q:** Which loss function and optimizer should I use?\n",
        "\n",
        "**A:** This will be problem specific. But with experience, you'll get an idea of what works and what doesn't with your particular problem set.\n",
        "\n",
        "For example, for a regression problem (like ours), a loss function of nn.L1Loss() and an optimizer like torch.optim.SDG() will suffice.\n",
        "\n",
        "But for a classification problem like classifying whether a photo is of a dog or a cat, you'll likely want to use a loss function of nn.BCELoss() (Binary Cross Entropy loss)."
      ],
      "metadata": {
        "id": "SIsX1U-yYNGY"
      }
    },
    {
      "cell_type": "markdown",
      "source": [
        "### Building a training loop (and a testing loop) in PyTorch\n",
        "\n",
        "A couple of thing we need in a training loop:\n",
        "0. Loop through the data\n",
        "1. Forward pass (this involves data moving through our model's `forward()` functions) to make predictions on data - also called forward propagation\n",
        "2. Calculate the loss (compare forward pass predictions to ground truth labels).\n",
        "3. Optimizer zero grad\n",
        "4. Loss backward - move backward through the network to calculate the gradients of each of the parameters of our model with respect to loss (**Backpropagation**)\n",
        "5. Optimizer step - use the optimizer to adjust our model's parameters to try and improve the loss (**Gradient descent**)"
      ],
      "metadata": {
        "id": "oGn0XNAebhzo"
      }
    },
    {
      "cell_type": "code",
      "source": [
        "list(model_0.eval().parameters())"
      ],
      "metadata": {
        "colab": {
          "base_uri": "https://localhost:8080/"
        },
        "id": "6NHw9UJSMhgx",
        "outputId": "c7d4c8a9-f576-4821-b73d-527a8288661a"
      },
      "execution_count": 199,
      "outputs": [
        {
          "output_type": "execute_result",
          "data": {
            "text/plain": [
              "[Parameter containing:\n",
              " tensor([0.3367], requires_grad=True),\n",
              " Parameter containing:\n",
              " tensor([0.1288], requires_grad=True)]"
            ]
          },
          "metadata": {},
          "execution_count": 199
        }
      ]
    },
    {
      "cell_type": "code",
      "source": [
        "list(model_0.parameters())"
      ],
      "metadata": {
        "colab": {
          "base_uri": "https://localhost:8080/"
        },
        "id": "ArO1fK__NQ12",
        "outputId": "fc60b7e4-e53b-4d6b-ee37-4b993fdee86b"
      },
      "execution_count": 200,
      "outputs": [
        {
          "output_type": "execute_result",
          "data": {
            "text/plain": [
              "[Parameter containing:\n",
              " tensor([0.3367], requires_grad=True),\n",
              " Parameter containing:\n",
              " tensor([0.1288], requires_grad=True)]"
            ]
          },
          "metadata": {},
          "execution_count": 200
        }
      ]
    },
    {
      "cell_type": "code",
      "source": [
        "e=0"
      ],
      "metadata": {
        "id": "uXDGOmocXKJ5"
      },
      "execution_count": 201,
      "outputs": []
    },
    {
      "cell_type": "code",
      "source": [
        "torch.manual_seed(42)\n",
        "# An epoch is one loop through the data... (this is a hyperparameter bcoz we've set it by ourself)\n",
        "epochs = 501\n",
        "\n",
        "# Track different values\n",
        "epoch_count = []\n",
        "loss_values = []\n",
        "test_loss_values = []\n",
        "### Training\n",
        "# Loop through the data\n",
        "for epoch in range(epochs):\n",
        "  #set the model to training mode\n",
        "  model_0.train() # train mode in PyTorch sets all the parameters that require gradients to require gradients\n",
        "\n",
        "  # 1. Forward Pass\n",
        "  y_pred = model_0(X_train)\n",
        "\n",
        "  # 2. Calculate the loss\n",
        "  loss = loss_fn(y_pred,y_train)\n",
        "\n",
        "  # 3. Optimizer zero grad\n",
        "  optimizer.zero_grad()\n",
        "\n",
        "  # 4. Perform backpropagation on the loss with respect to the parameters of the model\n",
        "  loss.backward()\n",
        "\n",
        "  # 5. Step the optimizer (perform gradient descent)\n",
        "  optimizer.step() # by default how the optimizer changes will accumulate through the loop so... we have to zero them above in step 3 for the next iteration of the loop\n",
        "\n",
        "\n",
        "  ### Testing\n",
        "  model_0.eval() # turns off different setting in the model not needed for evaluation/testing (dropout/batch norm layer)\n",
        "  with torch.inference_mode(): # turns off gradient tracking & a couple more things behind the scenes\n",
        "  # with torch.no_grad(): #you may also see torch.no_grad() in older PyTorch code\n",
        "    # 1. Do the forward pass\n",
        "    test_pred = model_0(X_test)\n",
        "    # 2. Calculate the loss\n",
        "    test_loss = loss_fn(test_pred, y_test)\n",
        "\n",
        "  if epoch % 10 == 0:# Display information outputs\n",
        "    epoch_count.append(epoch)\n",
        "    loss_values.append(loss)\n",
        "    test_loss_values.append(test_loss)\n",
        "    print(f\"Epoch: {epoch} | Loss: {loss} | Test loss: {test_loss}\")\n",
        "    # Print out model state_dict()\n",
        "    print(model_0.state_dict())"
      ],
      "metadata": {
        "colab": {
          "base_uri": "https://localhost:8080/"
        },
        "id": "bS9v1cKhL81V",
        "outputId": "ee931fa0-269f-4ffd-897f-bed712bea3fd"
      },
      "execution_count": 202,
      "outputs": [
        {
          "output_type": "stream",
          "name": "stdout",
          "text": [
            "Epoch: 0 | Loss: 0.31288138031959534 | Test loss: 0.48106518387794495\n",
            "OrderedDict([('weights', tensor([0.3406])), ('bias', tensor([0.1388]))])\n",
            "Epoch: 10 | Loss: 0.1976713240146637 | Test loss: 0.3463551998138428\n",
            "OrderedDict([('weights', tensor([0.3796])), ('bias', tensor([0.2388]))])\n",
            "Epoch: 20 | Loss: 0.08908725529909134 | Test loss: 0.21729660034179688\n",
            "OrderedDict([('weights', tensor([0.4184])), ('bias', tensor([0.3333]))])\n",
            "Epoch: 30 | Loss: 0.053148526698350906 | Test loss: 0.14464017748832703\n",
            "OrderedDict([('weights', tensor([0.4512])), ('bias', tensor([0.3768]))])\n",
            "Epoch: 40 | Loss: 0.04543796554207802 | Test loss: 0.11360953003168106\n",
            "OrderedDict([('weights', tensor([0.4748])), ('bias', tensor([0.3868]))])\n",
            "Epoch: 50 | Loss: 0.04167863354086876 | Test loss: 0.09919948130846024\n",
            "OrderedDict([('weights', tensor([0.4938])), ('bias', tensor([0.3843]))])\n",
            "Epoch: 60 | Loss: 0.03818932920694351 | Test loss: 0.08886633068323135\n",
            "OrderedDict([('weights', tensor([0.5116])), ('bias', tensor([0.3788]))])\n",
            "Epoch: 70 | Loss: 0.03476089984178543 | Test loss: 0.0805937647819519\n",
            "OrderedDict([('weights', tensor([0.5288])), ('bias', tensor([0.3718]))])\n",
            "Epoch: 80 | Loss: 0.03132382780313492 | Test loss: 0.07232122868299484\n",
            "OrderedDict([('weights', tensor([0.5459])), ('bias', tensor([0.3648]))])\n",
            "Epoch: 90 | Loss: 0.02788739837706089 | Test loss: 0.06473556160926819\n",
            "OrderedDict([('weights', tensor([0.5629])), ('bias', tensor([0.3573]))])\n",
            "Epoch: 100 | Loss: 0.024458957836031914 | Test loss: 0.05646304413676262\n",
            "OrderedDict([('weights', tensor([0.5800])), ('bias', tensor([0.3503]))])\n",
            "Epoch: 110 | Loss: 0.021020207554101944 | Test loss: 0.04819049686193466\n",
            "OrderedDict([('weights', tensor([0.5972])), ('bias', tensor([0.3433]))])\n",
            "Epoch: 120 | Loss: 0.01758546568453312 | Test loss: 0.04060482233762741\n",
            "OrderedDict([('weights', tensor([0.6141])), ('bias', tensor([0.3358]))])\n",
            "Epoch: 130 | Loss: 0.014155393466353416 | Test loss: 0.03233227878808975\n",
            "OrderedDict([('weights', tensor([0.6313])), ('bias', tensor([0.3288]))])\n",
            "Epoch: 140 | Loss: 0.010716589167714119 | Test loss: 0.024059748277068138\n",
            "OrderedDict([('weights', tensor([0.6485])), ('bias', tensor([0.3218]))])\n",
            "Epoch: 150 | Loss: 0.0072835334576666355 | Test loss: 0.016474086791276932\n",
            "OrderedDict([('weights', tensor([0.6654])), ('bias', tensor([0.3143]))])\n",
            "Epoch: 160 | Loss: 0.0038517764769494534 | Test loss: 0.008201557211577892\n",
            "OrderedDict([('weights', tensor([0.6826])), ('bias', tensor([0.3073]))])\n",
            "Epoch: 170 | Loss: 0.008932482451200485 | Test loss: 0.005023092031478882\n",
            "OrderedDict([('weights', tensor([0.6951])), ('bias', tensor([0.2993]))])\n",
            "Epoch: 180 | Loss: 0.008932482451200485 | Test loss: 0.005023092031478882\n",
            "OrderedDict([('weights', tensor([0.6951])), ('bias', tensor([0.2993]))])\n",
            "Epoch: 190 | Loss: 0.008932482451200485 | Test loss: 0.005023092031478882\n",
            "OrderedDict([('weights', tensor([0.6951])), ('bias', tensor([0.2993]))])\n",
            "Epoch: 200 | Loss: 0.008932482451200485 | Test loss: 0.005023092031478882\n",
            "OrderedDict([('weights', tensor([0.6951])), ('bias', tensor([0.2993]))])\n",
            "Epoch: 210 | Loss: 0.008932482451200485 | Test loss: 0.005023092031478882\n",
            "OrderedDict([('weights', tensor([0.6951])), ('bias', tensor([0.2993]))])\n",
            "Epoch: 220 | Loss: 0.008932482451200485 | Test loss: 0.005023092031478882\n",
            "OrderedDict([('weights', tensor([0.6951])), ('bias', tensor([0.2993]))])\n",
            "Epoch: 230 | Loss: 0.008932482451200485 | Test loss: 0.005023092031478882\n",
            "OrderedDict([('weights', tensor([0.6951])), ('bias', tensor([0.2993]))])\n",
            "Epoch: 240 | Loss: 0.008932482451200485 | Test loss: 0.005023092031478882\n",
            "OrderedDict([('weights', tensor([0.6951])), ('bias', tensor([0.2993]))])\n",
            "Epoch: 250 | Loss: 0.008932482451200485 | Test loss: 0.005023092031478882\n",
            "OrderedDict([('weights', tensor([0.6951])), ('bias', tensor([0.2993]))])\n",
            "Epoch: 260 | Loss: 0.008932482451200485 | Test loss: 0.005023092031478882\n",
            "OrderedDict([('weights', tensor([0.6951])), ('bias', tensor([0.2993]))])\n",
            "Epoch: 270 | Loss: 0.008932482451200485 | Test loss: 0.005023092031478882\n",
            "OrderedDict([('weights', tensor([0.6951])), ('bias', tensor([0.2993]))])\n",
            "Epoch: 280 | Loss: 0.008932482451200485 | Test loss: 0.005023092031478882\n",
            "OrderedDict([('weights', tensor([0.6951])), ('bias', tensor([0.2993]))])\n",
            "Epoch: 290 | Loss: 0.008932482451200485 | Test loss: 0.005023092031478882\n",
            "OrderedDict([('weights', tensor([0.6951])), ('bias', tensor([0.2993]))])\n",
            "Epoch: 300 | Loss: 0.008932482451200485 | Test loss: 0.005023092031478882\n",
            "OrderedDict([('weights', tensor([0.6951])), ('bias', tensor([0.2993]))])\n",
            "Epoch: 310 | Loss: 0.008932482451200485 | Test loss: 0.005023092031478882\n",
            "OrderedDict([('weights', tensor([0.6951])), ('bias', tensor([0.2993]))])\n",
            "Epoch: 320 | Loss: 0.008932482451200485 | Test loss: 0.005023092031478882\n",
            "OrderedDict([('weights', tensor([0.6951])), ('bias', tensor([0.2993]))])\n",
            "Epoch: 330 | Loss: 0.008932482451200485 | Test loss: 0.005023092031478882\n",
            "OrderedDict([('weights', tensor([0.6951])), ('bias', tensor([0.2993]))])\n",
            "Epoch: 340 | Loss: 0.008932482451200485 | Test loss: 0.005023092031478882\n",
            "OrderedDict([('weights', tensor([0.6951])), ('bias', tensor([0.2993]))])\n",
            "Epoch: 350 | Loss: 0.008932482451200485 | Test loss: 0.005023092031478882\n",
            "OrderedDict([('weights', tensor([0.6951])), ('bias', tensor([0.2993]))])\n",
            "Epoch: 360 | Loss: 0.008932482451200485 | Test loss: 0.005023092031478882\n",
            "OrderedDict([('weights', tensor([0.6951])), ('bias', tensor([0.2993]))])\n",
            "Epoch: 370 | Loss: 0.008932482451200485 | Test loss: 0.005023092031478882\n",
            "OrderedDict([('weights', tensor([0.6951])), ('bias', tensor([0.2993]))])\n",
            "Epoch: 380 | Loss: 0.008932482451200485 | Test loss: 0.005023092031478882\n",
            "OrderedDict([('weights', tensor([0.6951])), ('bias', tensor([0.2993]))])\n",
            "Epoch: 390 | Loss: 0.008932482451200485 | Test loss: 0.005023092031478882\n",
            "OrderedDict([('weights', tensor([0.6951])), ('bias', tensor([0.2993]))])\n",
            "Epoch: 400 | Loss: 0.008932482451200485 | Test loss: 0.005023092031478882\n",
            "OrderedDict([('weights', tensor([0.6951])), ('bias', tensor([0.2993]))])\n",
            "Epoch: 410 | Loss: 0.008932482451200485 | Test loss: 0.005023092031478882\n",
            "OrderedDict([('weights', tensor([0.6951])), ('bias', tensor([0.2993]))])\n",
            "Epoch: 420 | Loss: 0.008932482451200485 | Test loss: 0.005023092031478882\n",
            "OrderedDict([('weights', tensor([0.6951])), ('bias', tensor([0.2993]))])\n",
            "Epoch: 430 | Loss: 0.008932482451200485 | Test loss: 0.005023092031478882\n",
            "OrderedDict([('weights', tensor([0.6951])), ('bias', tensor([0.2993]))])\n",
            "Epoch: 440 | Loss: 0.008932482451200485 | Test loss: 0.005023092031478882\n",
            "OrderedDict([('weights', tensor([0.6951])), ('bias', tensor([0.2993]))])\n",
            "Epoch: 450 | Loss: 0.008932482451200485 | Test loss: 0.005023092031478882\n",
            "OrderedDict([('weights', tensor([0.6951])), ('bias', tensor([0.2993]))])\n",
            "Epoch: 460 | Loss: 0.008932482451200485 | Test loss: 0.005023092031478882\n",
            "OrderedDict([('weights', tensor([0.6951])), ('bias', tensor([0.2993]))])\n",
            "Epoch: 470 | Loss: 0.008932482451200485 | Test loss: 0.005023092031478882\n",
            "OrderedDict([('weights', tensor([0.6951])), ('bias', tensor([0.2993]))])\n",
            "Epoch: 480 | Loss: 0.008932482451200485 | Test loss: 0.005023092031478882\n",
            "OrderedDict([('weights', tensor([0.6951])), ('bias', tensor([0.2993]))])\n",
            "Epoch: 490 | Loss: 0.008932482451200485 | Test loss: 0.005023092031478882\n",
            "OrderedDict([('weights', tensor([0.6951])), ('bias', tensor([0.2993]))])\n",
            "Epoch: 500 | Loss: 0.008932482451200485 | Test loss: 0.005023092031478882\n",
            "OrderedDict([('weights', tensor([0.6951])), ('bias', tensor([0.2993]))])\n"
          ]
        }
      ]
    },
    {
      "cell_type": "code",
      "source": [
        "#plot the loss curve\n",
        "import numpy as np\n",
        "\n",
        "plt.plot(epoch_count, np.array(torch.tensor(loss_values).numpy()), label=\"Train loss\")#converted the loss_values array with tensor value in it to a numpy array\n",
        "plt.plot(epoch_count, np.array(torch.tensor(test_loss_values).numpy()), label=\"Test loss\")\n",
        "plt.title(\"Training and test los curves\")\n",
        "plt.ylabel(\"Loss\")\n",
        "plt.xlabel(\"Epochs\")\n",
        "plt.legend()"
      ],
      "metadata": {
        "colab": {
          "base_uri": "https://localhost:8080/",
          "height": 489
        },
        "id": "9_NiYKKPVY2S",
        "outputId": "02f9eb6e-03b2-4839-bffa-4f8ae9b54bc2"
      },
      "execution_count": 203,
      "outputs": [
        {
          "output_type": "execute_result",
          "data": {
            "text/plain": [
              "<matplotlib.legend.Legend at 0x7a90b9a28040>"
            ]
          },
          "metadata": {},
          "execution_count": 203
        },
        {
          "output_type": "display_data",
          "data": {
            "text/plain": [
              "<Figure size 640x480 with 1 Axes>"
            ],
            "image/png": "[encoded data removed]"
          },
          "metadata": {}
        }
      ]
    },
    {
      "cell_type": "code",
      "source": [
        "weight, bias # Correct parameters required"
      ],
      "metadata": {
        "colab": {
          "base_uri": "https://localhost:8080/"
        },
        "id": "BsDkR132itF2",
        "outputId": "cb869c59-cdd8-4265-b539-00a2d1e00987"
      },
      "execution_count": 204,
      "outputs": [
        {
          "output_type": "execute_result",
          "data": {
            "text/plain": [
              "(0.7, 0.3)"
            ]
          },
          "metadata": {},
          "execution_count": 204
        }
      ]
    },
    {
      "cell_type": "code",
      "source": [
        "with torch.inference_mode():\n",
        "  y_preds_new=model_0(X_test)"
      ],
      "metadata": {
        "id": "l7SHWA14ivH5"
      },
      "execution_count": 205,
      "outputs": []
    },
    {
      "cell_type": "code",
      "source": [
        "plot_predictions(predictions=y_preds)"
      ],
      "metadata": {
        "colab": {
          "base_uri": "https://localhost:8080/",
          "height": 599
        },
        "id": "dUklMvbbYpLW",
        "outputId": "0c1f05fd-6be4-4ceb-a191-6e7faeffd207"
      },
      "execution_count": 206,
      "outputs": [
        {
          "output_type": "display_data",
          "data": {
            "text/plain": [
              "<Figure size 1000x700 with 1 Axes>"
            ],
            "image/png": "[encoded data removed]"
          },
          "metadata": {}
        }
      ]
    },
    {
      "cell_type": "code",
      "source": [
        "plot_predictions(predictions=y_preds_new)"
      ],
      "metadata": {
        "colab": {
          "base_uri": "https://localhost:8080/",
          "height": 599
        },
        "id": "0un6fJ_GYvCP",
        "outputId": "53c8a2a7-c025-4438-c878-35f1b2d48d4a"
      },
      "execution_count": 207,
      "outputs": [
        {
          "output_type": "display_data",
          "data": {
            "text/plain": [
              "<Figure size 1000x700 with 1 Axes>"
            ],
            "image/png": "[encoded data removed]"
          },
          "metadata": {}
        }
      ]
    },
    {
      "cell_type": "markdown",
      "source": [
        "## Saving a model in PyTorch\n",
        "\n",
        "1. `torch.save()` - allows you save a PyTorch object in Python's pickle format\n",
        "\n",
        "2. `torch.load()` - allows you to load a saved PyTorch object\n",
        "\n",
        "3. `torch.nn.Module.load_state_dict()` - this allows to load a model's saved dictionary"
      ],
      "metadata": {
        "id": "G64PkApPY1yj"
      }
    },
    {
      "cell_type": "code",
      "source": [
        "# Saving our PyTorch model\n",
        "from pathlib import Path\n",
        "\n",
        "# 1. Create model directory\n",
        "MODEL_PATH = Path(\"models\")\n",
        "MODEL_PATH.mkdir(parents=True, exist_ok=True)\n",
        "\n",
        "# 2. Create model save path\n",
        "MODEL_NAME=\"01_pytorch_workflow_model_0.pth\"\n",
        "MODEL_SAVE_PATH = MODEL_PATH / MODEL_NAME\n",
        "\n",
        "# 3. Save the model state dict\n",
        "print(f\"Saving model to: {MODEL_SAVE_PATH}\")\n",
        "torch.save(obj=model_0.state_dict(),\n",
        "           f=MODEL_SAVE_PATH)"
      ],
      "metadata": {
        "colab": {
          "base_uri": "https://localhost:8080/"
        },
        "id": "TIIlP1dUfTbB",
        "outputId": "40dff721-ca19-4d45-ecd8-7a506eb5b587"
      },
      "execution_count": 208,
      "outputs": [
        {
          "output_type": "stream",
          "name": "stdout",
          "text": [
            "Saving model to: models/01_pytorch_workflow_model_0.pth\n"
          ]
        }
      ]
    },
    {
      "cell_type": "code",
      "source": [
        "ls -l models"
      ],
      "metadata": {
        "colab": {
          "base_uri": "https://localhost:8080/"
        },
        "id": "Wuvlz4i1gS1_",
        "outputId": "e69943b6-9009-44ba-810b-c9aa510c73ad"
      },
      "execution_count": 209,
      "outputs": [
        {
          "output_type": "stream",
          "name": "stdout",
          "text": [
            "total 4\n",
            "-rw-r--r-- 1 root root 1680 May 25 10:22 01_pytorch_workflow_model_0.pth\n"
          ]
        }
      ]
    },
    {
      "cell_type": "markdown",
      "source": [
        "## Loading a pytorch model\n",
        "\n",
        "Since we our model's `state_dict()` rather than entire model, we'll create a new instance of our model class and load the saved `state_dict()` into that."
      ],
      "metadata": {
        "id": "NAfxVE_wlFMT"
      }
    },
    {
      "cell_type": "code",
      "source": [
        "# To load in a saved state_dict we have to instantiate a new instance of our model class\n",
        "loaded_model_0 = LinearRegressionModel()\n",
        "\n",
        "# Load the saved state_dict of the model_0 (this will update the new instance with updated parameters)\n",
        "loaded_model_0.load_state_dict(torch.load(f=MODEL_SAVE_PATH))"
      ],
      "metadata": {
        "colab": {
          "base_uri": "https://localhost:8080/"
        },
        "id": "Y4cSClOuqtmZ",
        "outputId": "a566a209-b07f-49bf-9252-80764391f13f"
      },
      "execution_count": 210,
      "outputs": [
        {
          "output_type": "execute_result",
          "data": {
            "text/plain": [
              "<All keys matched successfully>"
            ]
          },
          "metadata": {},
          "execution_count": 210
        }
      ]
    },
    {
      "cell_type": "code",
      "source": [
        "loaded_model_0.state_dict()"
      ],
      "metadata": {
        "colab": {
          "base_uri": "https://localhost:8080/"
        },
        "id": "dOOu8oNPrp1n",
        "outputId": "a9b65ba8-b0a2-45ff-a9f6-9bc413fe0445"
      },
      "execution_count": 211,
      "outputs": [
        {
          "output_type": "execute_result",
          "data": {
            "text/plain": [
              "OrderedDict([('weights', tensor([0.6951])), ('bias', tensor([0.2993]))])"
            ]
          },
          "metadata": {},
          "execution_count": 211
        }
      ]
    },
    {
      "cell_type": "code",
      "source": [
        "# Make same predictions with our loaded model\n",
        "loaded_model_0.eval()\n",
        "with torch.inference_mode():\n",
        "  loaded_model_preds=loaded_model_0(X_test)\n",
        "\n",
        "loaded_model_preds"
      ],
      "metadata": {
        "colab": {
          "base_uri": "https://localhost:8080/"
        },
        "id": "AbkDqrwOsVIo",
        "outputId": "c517043a-e7d2-4c95-cb96-97236669851f"
      },
      "execution_count": 212,
      "outputs": [
        {
          "output_type": "execute_result",
          "data": {
            "text/plain": [
              "tensor([[0.8554],\n",
              "        [0.8693],\n",
              "        [0.8832],\n",
              "        [0.8971],\n",
              "        [0.9110],\n",
              "        [0.9249],\n",
              "        [0.9388],\n",
              "        [0.9527],\n",
              "        [0.9666],\n",
              "        [0.9805]])"
            ]
          },
          "metadata": {},
          "execution_count": 212
        }
      ]
    },
    {
      "cell_type": "code",
      "source": [
        "#Make some models preds\n",
        "model_0.eval()\n",
        "with torch.inference_mode():\n",
        "  y_preds = model_0(X_test)\n",
        "\n",
        "y_preds"
      ],
      "metadata": {
        "colab": {
          "base_uri": "https://localhost:8080/"
        },
        "id": "Mg9Z5OH2tagD",
        "outputId": "d2cf5804-9d31-4428-bda8-45a9a9671bd0"
      },
      "execution_count": 213,
      "outputs": [
        {
          "output_type": "execute_result",
          "data": {
            "text/plain": [
              "tensor([[0.8554],\n",
              "        [0.8693],\n",
              "        [0.8832],\n",
              "        [0.8971],\n",
              "        [0.9110],\n",
              "        [0.9249],\n",
              "        [0.9388],\n",
              "        [0.9527],\n",
              "        [0.9666],\n",
              "        [0.9805]])"
            ]
          },
          "metadata": {},
          "execution_count": 213
        }
      ]
    },
    {
      "cell_type": "code",
      "source": [
        "#Compare loaded model preds with original model preds\n",
        "y_preds == loaded_model_preds\n"
      ],
      "metadata": {
        "colab": {
          "base_uri": "https://localhost:8080/"
        },
        "id": "pg9iL4UNs1m5",
        "outputId": "dcde2af0-2cc0-4ed1-eef8-f599ff99b519"
      },
      "execution_count": 214,
      "outputs": [
        {
          "output_type": "execute_result",
          "data": {
            "text/plain": [
              "tensor([[True],\n",
              "        [True],\n",
              "        [True],\n",
              "        [True],\n",
              "        [True],\n",
              "        [True],\n",
              "        [True],\n",
              "        [True],\n",
              "        [True],\n",
              "        [True]])"
            ]
          },
          "metadata": {},
          "execution_count": 214
        }
      ]
    },
    {
      "cell_type": "markdown",
      "source": [
        "## 6. Putting it all together"
      ],
      "metadata": {
        "id": "cy8YkWAAtE36"
      }
    },
    {
      "cell_type": "code",
      "source": [
        "# Import PyTorch and matplotlib\n",
        "import torch\n",
        "from torch import nn\n",
        "import matplotlib.pyplot as plt\n",
        "\n",
        "#Check PyTorch version\n",
        "torch.__version__"
      ],
      "metadata": {
        "colab": {
          "base_uri": "https://localhost:8080/",
          "height": 36
        },
        "id": "p4R9goasvAzm",
        "outputId": "7b445de6-bb1a-4026-dcdd-c2fb4e9eb9e0"
      },
      "execution_count": 215,
      "outputs": [
        {
          "output_type": "execute_result",
          "data": {
            "text/plain": [
              "'2.3.0+cu121'"
            ],
            "application/vnd.google.colaboratory.intrinsic+json": {
              "type": "string"
            }
          },
          "metadata": {},
          "execution_count": 215
        }
      ]
    },
    {
      "cell_type": "markdown",
      "source": [
        "Create device-agnostic code.\n",
        "\n",
        "This means if we've got access to a GPU, our code will use it (for potentially faster computing).\n",
        "\n",
        "If no GPU available, the code will default to using CPU."
      ],
      "metadata": {
        "id": "TmJSUd0Rvf-5"
      }
    },
    {
      "cell_type": "code",
      "source": [
        "# Setup device agostic code\n",
        "device =  \"cuda\" if torch.cuda.is_available() else \"cpu\"\n",
        "print(f\"Using device: {device}\")"
      ],
      "metadata": {
        "colab": {
          "base_uri": "https://localhost:8080/"
        },
        "id": "ep0Gm8Y0wJnU",
        "outputId": "cb32ce44-0963-471d-e7ca-a5c7fb410041"
      },
      "execution_count": 216,
      "outputs": [
        {
          "output_type": "stream",
          "name": "stdout",
          "text": [
            "Using device: cpu\n"
          ]
        }
      ]
    },
    {
      "cell_type": "code",
      "source": [
        "!nvidia-smi"
      ],
      "metadata": {
        "colab": {
          "base_uri": "https://localhost:8080/"
        },
        "id": "km4aAleOw4Gj",
        "outputId": "b5504eb1-cbe4-4d31-f4fb-e12663dc8689"
      },
      "execution_count": 217,
      "outputs": [
        {
          "output_type": "stream",
          "name": "stdout",
          "text": [
            "/bin/bash: line 1: nvidia-smi: command not found\n"
          ]
        }
      ]
    },
    {
      "cell_type": "markdown",
      "source": [
        "### 6.1 Data"
      ],
      "metadata": {
        "id": "XvbQ1JnhuvxS"
      }
    },
    {
      "cell_type": "code",
      "source": [
        "# Create some data using the linear regression formula of y = weight * x +  bias\n",
        "weight = 2\n",
        "bias = 0.1\n",
        "\n",
        "# Create range values\n",
        "start = 0\n",
        "end = 1\n",
        "step = 0.02\n",
        "\n",
        "# Create X and y (features and labels)\n",
        "X = torch.arange(start, end, step).unsqueeze(dim=1) # without unsqueeze, errors will pop up\n",
        "y = weight * X + bias\n",
        "X[:10], y[:10]"
      ],
      "metadata": {
        "colab": {
          "base_uri": "https://localhost:8080/"
        },
        "id": "8qb9jDy0w_jS",
        "outputId": "ced7c54f-8ba5-4703-9a8f-e626b89eefae"
      },
      "execution_count": 218,
      "outputs": [
        {
          "output_type": "execute_result",
          "data": {
            "text/plain": [
              "(tensor([[0.0000],\n",
              "         [0.0200],\n",
              "         [0.0400],\n",
              "         [0.0600],\n",
              "         [0.0800],\n",
              "         [0.1000],\n",
              "         [0.1200],\n",
              "         [0.1400],\n",
              "         [0.1600],\n",
              "         [0.1800]]),\n",
              " tensor([[0.1000],\n",
              "         [0.1400],\n",
              "         [0.1800],\n",
              "         [0.2200],\n",
              "         [0.2600],\n",
              "         [0.3000],\n",
              "         [0.3400],\n",
              "         [0.3800],\n",
              "         [0.4200],\n",
              "         [0.4600]]))"
            ]
          },
          "metadata": {},
          "execution_count": 218
        }
      ]
    },
    {
      "cell_type": "code",
      "source": [
        "# Split data\n",
        "train_split = int(0.8 * len(X))\n",
        "X_train, y_train = X[:train_split], y[:train_split]\n",
        "X_test, y_test = X[train_split:], y[train_split:]\n",
        "len(X_train), len(y_train), len(X_test), len(y_test)"
      ],
      "metadata": {
        "colab": {
          "base_uri": "https://localhost:8080/"
        },
        "id": "bO9wLKhdzBk-",
        "outputId": "6ea0b4c6-6328-477b-9e0b-f8e2c7b3fdc3"
      },
      "execution_count": 219,
      "outputs": [
        {
          "output_type": "execute_result",
          "data": {
            "text/plain": [
              "(40, 40, 10, 10)"
            ]
          },
          "metadata": {},
          "execution_count": 219
        }
      ]
    },
    {
      "cell_type": "code",
      "source": [
        "# Plot the data\n",
        "# Note : if you don't have the plot_predictions() function loaded, this will error\n",
        "plot_predictions(X_train, y_train, X_test, y_test)"
      ],
      "metadata": {
        "colab": {
          "base_uri": "https://localhost:8080/",
          "height": 599
        },
        "id": "bBJhyZvK0Gdw",
        "outputId": "70e8a723-8841-41ca-837a-de7bb8106122"
      },
      "execution_count": 220,
      "outputs": [
        {
          "output_type": "display_data",
          "data": {
            "text/plain": [
              "<Figure size 1000x700 with 1 Axes>"
            ],
            "image/png": "[encoded data removed]"
          },
          "metadata": {}
        }
      ]
    },
    {
      "cell_type": "markdown",
      "source": [
        "## 6.2 Building a PyTorch Linear model"
      ],
      "metadata": {
        "id": "RnEr9T1A0ypc"
      }
    },
    {
      "cell_type": "code",
      "source": [
        "# Create a linear model by subclassing nn.Module\n",
        "class LinearRegressionModelV2(nn.Module):\n",
        "  def __init__(self):\n",
        "    super().__init__()\n",
        "    #Use nn.Linear() for creating the model parameters\n",
        "    self.linear_layer = nn.Linear(in_features=1,\n",
        "                                  out_features=1)\n",
        "\n",
        "  def forward(self, x: torch.Tensor) -> torch.Tensor:\n",
        "    return self.linear_layer(x)\n",
        "\n",
        "# Set the manual seed\n",
        "torch.manual_seed(42)\n",
        "model_1 = LinearRegressionModelV2()\n",
        "model_1, model_1.state_dict()"
      ],
      "metadata": {
        "colab": {
          "base_uri": "https://localhost:8080/"
        },
        "id": "35oTwoY71Nxz",
        "outputId": "a0d0212a-a092-4864-b99a-aedea524f642"
      },
      "execution_count": 221,
      "outputs": [
        {
          "output_type": "execute_result",
          "data": {
            "text/plain": [
              "(LinearRegressionModelV2(\n",
              "   (linear_layer): Linear(in_features=1, out_features=1, bias=True)\n",
              " ),\n",
              " OrderedDict([('linear_layer.weight', tensor([[0.7645]])),\n",
              "              ('linear_layer.bias', tensor([0.8300]))]))"
            ]
          },
          "metadata": {},
          "execution_count": 221
        }
      ]
    },
    {
      "cell_type": "code",
      "source": [
        "with torch.inference_mode():\n",
        "  y_preds=model_1(X_test)"
      ],
      "metadata": {
        "id": "P6BLHIxPN9hp"
      },
      "execution_count": 222,
      "outputs": []
    },
    {
      "cell_type": "code",
      "source": [
        "plot_predictions(X_train,y_train,X_test,y_test,y_preds)"
      ],
      "metadata": {
        "colab": {
          "base_uri": "https://localhost:8080/",
          "height": 599
        },
        "id": "pKwHq9_yOLBX",
        "outputId": "f6d55341-2bd0-458d-e7d3-491001d664b5"
      },
      "execution_count": 223,
      "outputs": [
        {
          "output_type": "display_data",
          "data": {
            "text/plain": [
              "<Figure size 1000x700 with 1 Axes>"
            ],
            "image/png": "[encoded data removed]"
          },
          "metadata": {}
        }
      ]
    },
    {
      "cell_type": "code",
      "source": [
        "#Check the model current device\n",
        "next(model_1.parameters()).device"
      ],
      "metadata": {
        "colab": {
          "base_uri": "https://localhost:8080/"
        },
        "id": "u_Kfg6VUCN01",
        "outputId": "782d6492-56c2-4779-d240-9d95965669f9"
      },
      "execution_count": 224,
      "outputs": [
        {
          "output_type": "execute_result",
          "data": {
            "text/plain": [
              "device(type='cpu')"
            ]
          },
          "metadata": {},
          "execution_count": 224
        }
      ]
    },
    {
      "cell_type": "code",
      "source": [
        "# Set the model to use the target device\n",
        "model_1.to(device)\n",
        "next(model_1.parameters()).device"
      ],
      "metadata": {
        "colab": {
          "base_uri": "https://localhost:8080/"
        },
        "id": "5y0L-QBU5-P_",
        "outputId": "77238787-58de-4d1b-ac9d-f138aef71c2d"
      },
      "execution_count": 225,
      "outputs": [
        {
          "output_type": "execute_result",
          "data": {
            "text/plain": [
              "device(type='cpu')"
            ]
          },
          "metadata": {},
          "execution_count": 225
        }
      ]
    },
    {
      "cell_type": "markdown",
      "source": [
        "### 6.3 Training\n",
        "\n",
        "For training we need:\n",
        "* Loss function\n",
        "* Optimizer\n",
        "* Training loop\n",
        "* Testing loop"
      ],
      "metadata": {
        "id": "uSPlnvIvCLuR"
      }
    },
    {
      "cell_type": "code",
      "source": [
        "# Setup loss function\n",
        "loss_fn = nn.L1Loss()\n",
        "\n",
        "# Setup our optimizer\n",
        "optimizer = torch.optim.SGD(params=model_1.parameters(),\n",
        "                            lr=0.01)"
      ],
      "metadata": {
        "id": "SWCgA3DeDfto"
      },
      "execution_count": 226,
      "outputs": []
    },
    {
      "cell_type": "code",
      "source": [
        "# Let's write a training loop\n",
        "torch.manual_seed(42)\n",
        "\n",
        "epochs = 800\n",
        "\n",
        "# Put data on the target device (device agnostic code for data)\n",
        "X_train = X_train.to(device)\n",
        "y_train = y_train.to(device)\n",
        "X_test = X_test.to(device)\n",
        "y_test = y_test.to(device)\n",
        "\n",
        "for epoch in range(epochs):\n",
        "  model_1.train()\n",
        "\n",
        "  # 1. Forward pass\n",
        "  y_pred = model_1(X_train)\n",
        "\n",
        "  # 2. Calculate the loss\n",
        "  loss = loss_fn(y_pred, y_train)\n",
        "\n",
        "  # 3. Optimizer zero grad\n",
        "  optimizer.zero_grad()\n",
        "\n",
        "  # 4. Perform backpropagation\n",
        "  loss.backward()\n",
        "\n",
        "  # 5. optimizer step\n",
        "  optimizer.step()\n",
        "\n",
        "  ### Testing\n",
        "  model_1.eval()\n",
        "  with torch.inference_mode():\n",
        "    test_pred = model_1(X_test)\n",
        "\n",
        "    test_loss = loss_fn(test_pred, y_test)\n",
        "\n",
        "  # Print out what's happening\n",
        "  if epoch % 10 == 0:\n",
        "    print(f\"Epoch: {epoch} | Loss: {loss} | Test loss: {test_loss}\")"
      ],
      "metadata": {
        "colab": {
          "base_uri": "https://localhost:8080/"
        },
        "id": "TDOlM39EEFTg",
        "outputId": "7b07d001-0b71-4f57-f675-c0508ae61873"
      },
      "execution_count": 227,
      "outputs": [
        {
          "output_type": "stream",
          "name": "stdout",
          "text": [
            "Epoch: 0 | Loss: 0.30940818786621094 | Test loss: 0.37495332956314087\n",
            "Epoch: 10 | Loss: 0.2886516749858856 | Test loss: 0.4206458032131195\n",
            "Epoch: 20 | Loss: 0.27461084723472595 | Test loss: 0.4551360011100769\n",
            "Epoch: 30 | Loss: 0.26467710733413696 | Test loss: 0.48008260130882263\n",
            "Epoch: 40 | Loss: 0.25743526220321655 | Test loss: 0.4970729351043701\n",
            "Epoch: 50 | Loss: 0.2516745924949646 | Test loss: 0.5083540081977844\n",
            "Epoch: 60 | Loss: 0.24652239680290222 | Test loss: 0.5167983770370483\n",
            "Epoch: 70 | Loss: 0.24239544570446014 | Test loss: 0.5196053385734558\n",
            "Epoch: 80 | Loss: 0.23826853930950165 | Test loss: 0.5224123597145081\n",
            "Epoch: 90 | Loss: 0.23442327976226807 | Test loss: 0.5217402577400208\n",
            "Epoch: 100 | Loss: 0.23089516162872314 | Test loss: 0.5175889730453491\n",
            "Epoch: 110 | Loss: 0.2273670732975006 | Test loss: 0.5134377479553223\n",
            "Epoch: 120 | Loss: 0.2238389551639557 | Test loss: 0.5092864632606506\n",
            "Epoch: 130 | Loss: 0.22031085193157196 | Test loss: 0.5051352381706238\n",
            "Epoch: 140 | Loss: 0.21678273379802704 | Test loss: 0.5009839534759521\n",
            "Epoch: 150 | Loss: 0.21325461566448212 | Test loss: 0.4968327581882477\n",
            "Epoch: 160 | Loss: 0.20979294180870056 | Test loss: 0.4899340569972992\n",
            "Epoch: 170 | Loss: 0.20635835826396942 | Test loss: 0.4816617965698242\n",
            "Epoch: 180 | Loss: 0.20291955769062042 | Test loss: 0.47338932752609253\n",
            "Epoch: 190 | Loss: 0.1994909942150116 | Test loss: 0.46580401062965393\n",
            "Epoch: 200 | Loss: 0.19605481624603271 | Test loss: 0.4575319290161133\n",
            "Epoch: 210 | Loss: 0.19261756539344788 | Test loss: 0.44994673132896423\n",
            "Epoch: 220 | Loss: 0.18918918073177338 | Test loss: 0.4416745603084564\n",
            "Epoch: 230 | Loss: 0.18575136363506317 | Test loss: 0.43340229988098145\n",
            "Epoch: 240 | Loss: 0.18231579661369324 | Test loss: 0.42581695318222046\n",
            "Epoch: 250 | Loss: 0.17888668179512024 | Test loss: 0.4175446927547455\n",
            "Epoch: 260 | Loss: 0.17544791102409363 | Test loss: 0.4092724919319153\n",
            "Epoch: 270 | Loss: 0.1720140278339386 | Test loss: 0.4016870856285095\n",
            "Epoch: 280 | Loss: 0.1685832291841507 | Test loss: 0.3934148848056793\n",
            "Epoch: 290 | Loss: 0.16514448821544647 | Test loss: 0.38514262437820435\n",
            "Epoch: 300 | Loss: 0.16171225905418396 | Test loss: 0.3775572180747986\n",
            "Epoch: 310 | Loss: 0.15827979147434235 | Test loss: 0.36928507685661316\n",
            "Epoch: 320 | Loss: 0.15484103560447693 | Test loss: 0.3610127866268158\n",
            "Epoch: 330 | Loss: 0.15141049027442932 | Test loss: 0.3534274101257324\n",
            "Epoch: 340 | Loss: 0.147976353764534 | Test loss: 0.3451552093029022\n",
            "Epoch: 350 | Loss: 0.14453761279582977 | Test loss: 0.33688297867774963\n",
            "Epoch: 360 | Loss: 0.14110872149467468 | Test loss: 0.32929760217666626\n",
            "Epoch: 370 | Loss: 0.13767291605472565 | Test loss: 0.3210253119468689\n",
            "Epoch: 380 | Loss: 0.13423533737659454 | Test loss: 0.31343990564346313\n",
            "Epoch: 390 | Loss: 0.13080695271492004 | Test loss: 0.3051677346229553\n",
            "Epoch: 400 | Loss: 0.1273694783449173 | Test loss: 0.29689550399780273\n",
            "Epoch: 410 | Loss: 0.12393355369567871 | Test loss: 0.28931012749671936\n",
            "Epoch: 420 | Loss: 0.12050478160381317 | Test loss: 0.2810378670692444\n",
            "Epoch: 430 | Loss: 0.11706604063510895 | Test loss: 0.2727656662464142\n",
            "Epoch: 440 | Loss: 0.11363178491592407 | Test loss: 0.2651802897453308\n",
            "Epoch: 450 | Loss: 0.11020134389400482 | Test loss: 0.25690802931785583\n",
            "Epoch: 460 | Loss: 0.1067626029253006 | Test loss: 0.24863579869270325\n",
            "Epoch: 470 | Loss: 0.10333001613616943 | Test loss: 0.24105039238929749\n",
            "Epoch: 480 | Loss: 0.09989792853593826 | Test loss: 0.23277822136878967\n",
            "Epoch: 490 | Loss: 0.09645916521549225 | Test loss: 0.2245059460401535\n",
            "Epoch: 500 | Loss: 0.0930282399058342 | Test loss: 0.21692056953907013\n",
            "Epoch: 510 | Loss: 0.08959446102380753 | Test loss: 0.20864829421043396\n",
            "Epoch: 520 | Loss: 0.0861557275056839 | Test loss: 0.20037612318992615\n",
            "Epoch: 530 | Loss: 0.08272646367549896 | Test loss: 0.19279077649116516\n",
            "Epoch: 540 | Loss: 0.07929103076457977 | Test loss: 0.1845184862613678\n",
            "Epoch: 550 | Loss: 0.07585306465625763 | Test loss: 0.17693312466144562\n",
            "Epoch: 560 | Loss: 0.07242470979690552 | Test loss: 0.16866089403629303\n",
            "Epoch: 570 | Loss: 0.06898759305477142 | Test loss: 0.1603887677192688\n",
            "Epoch: 580 | Loss: 0.06555129587650299 | Test loss: 0.15280340611934662\n",
            "Epoch: 590 | Loss: 0.062122903764247894 | Test loss: 0.1445312798023224\n",
            "Epoch: 600 | Loss: 0.05868415907025337 | Test loss: 0.13625910878181458\n",
            "Epoch: 610 | Loss: 0.05524953454732895 | Test loss: 0.1286737471818924\n",
            "Epoch: 620 | Loss: 0.05181943625211716 | Test loss: 0.12040156126022339\n",
            "Epoch: 630 | Loss: 0.04838069900870323 | Test loss: 0.11212940514087677\n",
            "Epoch: 640 | Loss: 0.04494772478938103 | Test loss: 0.10454416275024414\n",
            "Epoch: 650 | Loss: 0.041515979915857315 | Test loss: 0.09627197682857513\n",
            "Epoch: 660 | Loss: 0.038077227771282196 | Test loss: 0.0879998430609703\n",
            "Epoch: 670 | Loss: 0.034645915031433105 | Test loss: 0.08041447401046753\n",
            "Epoch: 680 | Loss: 0.03121255710721016 | Test loss: 0.07214231789112091\n",
            "Epoch: 690 | Loss: 0.02777380868792534 | Test loss: 0.0638701319694519\n",
            "Epoch: 700 | Loss: 0.024344155564904213 | Test loss: 0.05628477409482002\n",
            "Epoch: 710 | Loss: 0.020909100770950317 | Test loss: 0.048012625426054\n",
            "Epoch: 720 | Loss: 0.017470747232437134 | Test loss: 0.040427349507808685\n",
            "Epoch: 730 | Loss: 0.01404234766960144 | Test loss: 0.03215519338846207\n",
            "Epoch: 740 | Loss: 0.01060567144304514 | Test loss: 0.023883020505309105\n",
            "Epoch: 750 | Loss: 0.007168942131102085 | Test loss: 0.016297781839966774\n",
            "Epoch: 760 | Loss: 0.0037405327893793583 | Test loss: 0.008025646209716797\n",
            "Epoch: 770 | Loss: 0.0045042140409350395 | Test loss: 0.010900044813752174\n",
            "Epoch: 780 | Loss: 0.0045042140409350395 | Test loss: 0.010900044813752174\n",
            "Epoch: 790 | Loss: 0.0045042140409350395 | Test loss: 0.010900044813752174\n"
          ]
        }
      ]
    },
    {
      "cell_type": "code",
      "source": [
        "model_1.state_dict()"
      ],
      "metadata": {
        "colab": {
          "base_uri": "https://localhost:8080/"
        },
        "id": "_bbpdvvIHmTU",
        "outputId": "d22ddf55-679e-4e80-ce5a-8a1fd1a1dde3"
      },
      "execution_count": 228,
      "outputs": [
        {
          "output_type": "execute_result",
          "data": {
            "text/plain": [
              "OrderedDict([('linear_layer.weight', tensor([[1.9961]])),\n",
              "             ('linear_layer.bias', tensor([0.1060]))])"
            ]
          },
          "metadata": {},
          "execution_count": 228
        }
      ]
    },
    {
      "cell_type": "code",
      "source": [
        "weight, bias"
      ],
      "metadata": {
        "colab": {
          "base_uri": "https://localhost:8080/"
        },
        "id": "K7UmYMcWJSmp",
        "outputId": "3cacdf84-d8ba-45de-e5ab-1bf2e309f94c"
      },
      "execution_count": 229,
      "outputs": [
        {
          "output_type": "execute_result",
          "data": {
            "text/plain": [
              "(2, 0.1)"
            ]
          },
          "metadata": {},
          "execution_count": 229
        }
      ]
    },
    {
      "cell_type": "code",
      "source": [
        "plot_predictions(train_data=X_train,\n",
        "                     train_labels=y_train,\n",
        "                     test_data=X_test,\n",
        "                     test_labels=y_test,\n",
        "                     predictions=None)"
      ],
      "metadata": {
        "colab": {
          "base_uri": "https://localhost:8080/",
          "height": 599
        },
        "id": "-MTUg7myLPGt",
        "outputId": "907d9e05-4e23-4ae5-c57a-42a4cb2d1662"
      },
      "execution_count": 230,
      "outputs": [
        {
          "output_type": "display_data",
          "data": {
            "text/plain": [
              "<Figure size 1000x700 with 1 Axes>"
            ],
            "image/png": "[encoded data removed]"
          },
          "metadata": {}
        }
      ]
    },
    {
      "cell_type": "code",
      "source": [
        "#Turn model into evaluation mode\n",
        "model_1.eval()\n",
        "with torch.inference_mode():# in inference mode grad_fn is turned off as we are doing predictions so it does not requere any gradient for it, so it reduces calculation thereby decreasing time of execution for large data\n",
        "  y_preds_new = model_1(X_test)\n",
        "\n",
        "y_preds_new"
      ],
      "metadata": {
        "colab": {
          "base_uri": "https://localhost:8080/"
        },
        "id": "Gx5oY__CNeqL",
        "outputId": "6bf23a0d-dd2a-4280-9bb1-a46a859d5768"
      },
      "execution_count": 231,
      "outputs": [
        {
          "output_type": "execute_result",
          "data": {
            "text/plain": [
              "tensor([[1.7029],\n",
              "        [1.7428],\n",
              "        [1.7828],\n",
              "        [1.8227],\n",
              "        [1.8626],\n",
              "        [1.9025],\n",
              "        [1.9425],\n",
              "        [1.9824],\n",
              "        [2.0223],\n",
              "        [2.0622]])"
            ]
          },
          "metadata": {},
          "execution_count": 231
        }
      ]
    },
    {
      "cell_type": "code",
      "source": [
        "plot_predictions(X_train,y_train,X_test,y_test,y_preds)"
      ],
      "metadata": {
        "colab": {
          "base_uri": "https://localhost:8080/",
          "height": 599
        },
        "id": "5cPHc7JvRWn4",
        "outputId": "fdb806e7-71e3-4ce0-88aa-de2a0fc0b490"
      },
      "execution_count": 232,
      "outputs": [
        {
          "output_type": "display_data",
          "data": {
            "text/plain": [
              "<Figure size 1000x700 with 1 Axes>"
            ],
            "image/png": "[encoded data removed]"
          },
          "metadata": {}
        }
      ]
    },
    {
      "cell_type": "code",
      "source": [
        "plot_predictions(X_train,y_train,X_test,y_test,y_preds_new)"
      ],
      "metadata": {
        "colab": {
          "base_uri": "https://localhost:8080/",
          "height": 599
        },
        "id": "fUIqkIzYL2C2",
        "outputId": "e85812aa-3469-4fe4-858f-7f31ef1dbe9b"
      },
      "execution_count": 233,
      "outputs": [
        {
          "output_type": "display_data",
          "data": {
            "text/plain": [
              "<Figure size 1000x700 with 1 Axes>"
            ],
            "image/png": "[encoded data removed]"
          },
          "metadata": {}
        }
      ]
    },
    {
      "cell_type": "markdown",
      "source": [
        "### 6.5 Saving & loading a trained model"
      ],
      "metadata": {
        "id": "6J4ZfmTlM7Tf"
      }
    },
    {
      "cell_type": "code",
      "source": [
        "# Saving our PyTorch model\n",
        "from pathlib import Path\n",
        "\n",
        "# 1. Create model directory\n",
        "MODEL_PATH = Path(\"models\")\n",
        "MODEL_PATH.mkdir(parents=True, exist_ok=True)\n",
        "\n",
        "# 2. Create model save path\n",
        "MODEL_NAME=\"01_pytorch_workflow_model_1.pth\"\n",
        "MODEL_SAVE_PATH = MODEL_PATH / MODEL_NAME\n",
        "\n",
        "# 3. Save the model state dict\n",
        "torch.save(obj=model_1.state_dict(),\n",
        "           f=MODEL_SAVE_PATH)"
      ],
      "metadata": {
        "id": "plkRO_GQbZpL"
      },
      "execution_count": 239,
      "outputs": []
    },
    {
      "cell_type": "code",
      "source": [
        "model_1.state_dict()"
      ],
      "metadata": {
        "colab": {
          "base_uri": "https://localhost:8080/"
        },
        "id": "AYWYWwG7eMIz",
        "outputId": "b75c54e8-5d39-4f9f-c61d-873584a6e6be"
      },
      "execution_count": 238,
      "outputs": [
        {
          "output_type": "execute_result",
          "data": {
            "text/plain": [
              "OrderedDict([('linear_layer.weight', tensor([[1.9961]])),\n",
              "             ('linear_layer.bias', tensor([0.1060]))])"
            ]
          },
          "metadata": {},
          "execution_count": 238
        }
      ]
    },
    {
      "cell_type": "code",
      "source": [
        "# To load in a saved state_dict we have to instantiate a new instance of our model class\n",
        "loaded_model_1 = LinearRegressionModelV2()\n",
        "\n",
        "# Load the saved state_dict of the model_0 (this will update the new instance with updated parameters)\n",
        "loaded_model_1.load_state_dict(torch.load(f=MODEL_SAVE_PATH))\n",
        "\n",
        "loaded_model_1.to(device)"
      ],
      "metadata": {
        "colab": {
          "base_uri": "https://localhost:8080/"
        },
        "id": "uXlzLU5edIzF",
        "outputId": "f7e05b9a-8ee7-45c2-856f-50ee5e0c1c59"
      },
      "execution_count": 246,
      "outputs": [
        {
          "output_type": "execute_result",
          "data": {
            "text/plain": [
              "LinearRegressionModelV2(\n",
              "  (linear_layer): Linear(in_features=1, out_features=1, bias=True)\n",
              ")"
            ]
          },
          "metadata": {},
          "execution_count": 246
        }
      ]
    },
    {
      "cell_type": "code",
      "source": [
        "next(loaded_model_1.parameters()).device"
      ],
      "metadata": {
        "colab": {
          "base_uri": "https://localhost:8080/"
        },
        "id": "qw6MZm16g9BS",
        "outputId": "fbfa3d85-2a97-43bf-fc39-0fa028df3c0f"
      },
      "execution_count": 247,
      "outputs": [
        {
          "output_type": "execute_result",
          "data": {
            "text/plain": [
              "device(type='cpu')"
            ]
          },
          "metadata": {},
          "execution_count": 247
        }
      ]
    },
    {
      "cell_type": "code",
      "source": [
        "loaded_model_1.state_dict()"
      ],
      "metadata": {
        "colab": {
          "base_uri": "https://localhost:8080/"
        },
        "id": "isS3OznYdQzE",
        "outputId": "aac2ed31-fea7-4ba3-a6b7-c08b4d286f3e"
      },
      "execution_count": 248,
      "outputs": [
        {
          "output_type": "execute_result",
          "data": {
            "text/plain": [
              "OrderedDict([('linear_layer.weight', tensor([[1.9961]])),\n",
              "             ('linear_layer.bias', tensor([0.1060]))])"
            ]
          },
          "metadata": {},
          "execution_count": 248
        }
      ]
    },
    {
      "cell_type": "code",
      "source": [
        "model_1.eval()\n",
        "with torch.inference_mode():\n",
        "  loaded_model_1_y_preds=model_1(X_test)"
      ],
      "metadata": {
        "id": "b-EYUltkfBqO"
      },
      "execution_count": 249,
      "outputs": []
    },
    {
      "cell_type": "code",
      "source": [
        "loaded_model_1_y_preds == y_preds_new"
      ],
      "metadata": {
        "colab": {
          "base_uri": "https://localhost:8080/"
        },
        "id": "fHz4wJ2afo26",
        "outputId": "3f0584cf-9798-4915-e1d6-ff0b3995aa6a"
      },
      "execution_count": 250,
      "outputs": [
        {
          "output_type": "execute_result",
          "data": {
            "text/plain": [
              "tensor([[True],\n",
              "        [True],\n",
              "        [True],\n",
              "        [True],\n",
              "        [True],\n",
              "        [True],\n",
              "        [True],\n",
              "        [True],\n",
              "        [True],\n",
              "        [True]])"
            ]
          },
          "metadata": {},
          "execution_count": 250
        }
      ]
    },
    {
      "cell_type": "markdown",
      "source": [
        "# Exercise and Extra-curriculum"
      ],
      "metadata": {
        "id": "7Yl6ppWtft2X"
      }
    },
    {
      "cell_type": "code",
      "source": [
        "import torch\n",
        "import matplotlib.pyplot as plt\n",
        "import numpy as np\n",
        "strat=0\n",
        "end=1\n",
        "step=0.01\n",
        "weight=0.3\n",
        "bias=0.9\n",
        "X=torch.arange(strat,end,step)\n",
        "y=weight*X + bias\n",
        "X,y"
      ],
      "metadata": {
        "id": "NAHK09aWRaWe",
        "outputId": "b2064979-0722-4dbd-9979-fd314976470b",
        "colab": {
          "base_uri": "https://localhost:8080/"
        }
      },
      "execution_count": 4,
      "outputs": [
        {
          "output_type": "execute_result",
          "data": {
            "text/plain": [
              "(tensor([0.0000, 0.0100, 0.0200, 0.0300, 0.0400, 0.0500, 0.0600, 0.0700, 0.0800,\n",
              "         0.0900, 0.1000, 0.1100, 0.1200, 0.1300, 0.1400, 0.1500, 0.1600, 0.1700,\n",
              "         0.1800, 0.1900, 0.2000, 0.2100, 0.2200, 0.2300, 0.2400, 0.2500, 0.2600,\n",
              "         0.2700, 0.2800, 0.2900, 0.3000, 0.3100, 0.3200, 0.3300, 0.3400, 0.3500,\n",
              "         0.3600, 0.3700, 0.3800, 0.3900, 0.4000, 0.4100, 0.4200, 0.4300, 0.4400,\n",
              "         0.4500, 0.4600, 0.4700, 0.4800, 0.4900, 0.5000, 0.5100, 0.5200, 0.5300,\n",
              "         0.5400, 0.5500, 0.5600, 0.5700, 0.5800, 0.5900, 0.6000, 0.6100, 0.6200,\n",
              "         0.6300, 0.6400, 0.6500, 0.6600, 0.6700, 0.6800, 0.6900, 0.7000, 0.7100,\n",
              "         0.7200, 0.7300, 0.7400, 0.7500, 0.7600, 0.7700, 0.7800, 0.7900, 0.8000,\n",
              "         0.8100, 0.8200, 0.8300, 0.8400, 0.8500, 0.8600, 0.8700, 0.8800, 0.8900,\n",
              "         0.9000, 0.9100, 0.9200, 0.9300, 0.9400, 0.9500, 0.9600, 0.9700, 0.9800,\n",
              "         0.9900]),\n",
              " tensor([0.9000, 0.9030, 0.9060, 0.9090, 0.9120, 0.9150, 0.9180, 0.9210, 0.9240,\n",
              "         0.9270, 0.9300, 0.9330, 0.9360, 0.9390, 0.9420, 0.9450, 0.9480, 0.9510,\n",
              "         0.9540, 0.9570, 0.9600, 0.9630, 0.9660, 0.9690, 0.9720, 0.9750, 0.9780,\n",
              "         0.9810, 0.9840, 0.9870, 0.9900, 0.9930, 0.9960, 0.9990, 1.0020, 1.0050,\n",
              "         1.0080, 1.0110, 1.0140, 1.0170, 1.0200, 1.0230, 1.0260, 1.0290, 1.0320,\n",
              "         1.0350, 1.0380, 1.0410, 1.0440, 1.0470, 1.0500, 1.0530, 1.0560, 1.0590,\n",
              "         1.0620, 1.0650, 1.0680, 1.0710, 1.0740, 1.0770, 1.0800, 1.0830, 1.0860,\n",
              "         1.0890, 1.0920, 1.0950, 1.0980, 1.1010, 1.1040, 1.1070, 1.1100, 1.1130,\n",
              "         1.1160, 1.1190, 1.1220, 1.1250, 1.1280, 1.1310, 1.1340, 1.1370, 1.1400,\n",
              "         1.1430, 1.1460, 1.1490, 1.1520, 1.1550, 1.1580, 1.1610, 1.1640, 1.1670,\n",
              "         1.1700, 1.1730, 1.1760, 1.1790, 1.1820, 1.1850, 1.1880, 1.1910, 1.1940,\n",
              "         1.1970]))"
            ]
          },
          "metadata": {},
          "execution_count": 4
        }
      ]
    },
    {
      "cell_type": "code",
      "source": [
        "train_split=int(0.8*len(X))\n",
        "X_train, y_train=X[:train_split], y[:train_split]\n",
        "X_test, y_test=X[train_split:], y[train_split:]\n",
        "X_train.shape, y_train.shape, X_test.shape, y_test.shape"
      ],
      "metadata": {
        "id": "ucnZLBaBSgeI",
        "outputId": "48e9d12b-07df-4e4e-dae4-baea741be7cd",
        "colab": {
          "base_uri": "https://localhost:8080/"
        }
      },
      "execution_count": 5,
      "outputs": [
        {
          "output_type": "execute_result",
          "data": {
            "text/plain": [
              "(torch.Size([80]), torch.Size([80]), torch.Size([20]), torch.Size([20]))"
            ]
          },
          "metadata": {},
          "execution_count": 5
        }
      ]
    },
    {
      "cell_type": "code",
      "source": [
        "def plot_prediction(X_train,y_train, X_test, y_test, predictions=None):\n",
        "  plt.scatter(X_train,y_train,c=\"b\",s=4,label=\"Train Data\")\n",
        "  plt.scatter(X_test,y_test,c=\"g\",s=4,label=\"Test Data\")\n",
        "  if(predictions is not None):\n",
        "    plt.scatter(X_test,predictions,c=\"r\",s=4,label=\"Predictions\")\n",
        "  plt.legend()"
      ],
      "metadata": {
        "id": "quw_TcudTRfU"
      },
      "execution_count": 22,
      "outputs": []
    },
    {
      "cell_type": "code",
      "source": [
        "plot_prediction(X_train,y_train, X_test, y_test)"
      ],
      "metadata": {
        "id": "QMxG-2KxVbzu",
        "outputId": "1f3948d5-d937-4226-f147-f12cad38df2c",
        "colab": {
          "base_uri": "https://localhost:8080/",
          "height": 430
        }
      },
      "execution_count": 23,
      "outputs": [
        {
          "output_type": "display_data",
          "data": {
            "text/plain": [
              "<Figure size 640x480 with 1 Axes>"
            ],
            "image/png": "[encoded data removed]"
          },
          "metadata": {}
        }
      ]
    },
    {
      "cell_type": "code",
      "source": [
        "from torch import nn\n",
        "class LR(nn.Module):\n",
        "  def __init__(self):\n",
        "    super().__init__()\n",
        "    self.weight = nn.Parameter(torch.randn(1,\n",
        "                                           requires_grad=True,\n",
        "                                           dtype=torch.float))\n",
        "    self.bias = nn.Parameter(torch.randn(1,\n",
        "                                           requires_grad=True,\n",
        "                                           dtype=torch.float))\n",
        "  def forward(self,x:torch.Tensor)->torch.Tensor:\n",
        "      return self.weight*x+self.bias"
      ],
      "metadata": {
        "id": "8km4x41FjeUX"
      },
      "execution_count": 8,
      "outputs": []
    },
    {
      "cell_type": "code",
      "source": [
        "model_ex=LR()\n",
        "model_ex.state_dict()"
      ],
      "metadata": {
        "id": "peCSCdVOohE0",
        "outputId": "d2b9acbf-91c4-4850-f9ac-abc5dccd4c21",
        "colab": {
          "base_uri": "https://localhost:8080/"
        }
      },
      "execution_count": 9,
      "outputs": [
        {
          "output_type": "execute_result",
          "data": {
            "text/plain": [
              "OrderedDict([('weight', tensor([0.8090])), ('bias', tensor([-1.7942]))])"
            ]
          },
          "metadata": {},
          "execution_count": 9
        }
      ]
    },
    {
      "cell_type": "code",
      "source": [
        "with torch.inference_mode():\n",
        "  y_pred=model_ex(X_test)"
      ],
      "metadata": {
        "id": "WBOV11-jwxLS"
      },
      "execution_count": 10,
      "outputs": []
    },
    {
      "cell_type": "code",
      "source": [
        "loss_fn=nn.L1Loss()\n",
        "optimizer=torch.optim.SGD(params=model_ex.parameters(),\n",
        "                          lr=0.01)"
      ],
      "metadata": {
        "id": "dGHorNFcpOkt"
      },
      "execution_count": 11,
      "outputs": []
    },
    {
      "cell_type": "code",
      "source": [
        "plot_prediction(X_train,y_train, X_test, y_test,y_pred)"
      ],
      "metadata": {
        "id": "0DCShIgOwqG2",
        "outputId": "6e473518-0172-468b-bb06-7d9e12d1bfc1",
        "colab": {
          "base_uri": "https://localhost:8080/",
          "height": 430
        }
      },
      "execution_count": 12,
      "outputs": [
        {
          "output_type": "display_data",
          "data": {
            "text/plain": [
              "<Figure size 640x480 with 1 Axes>"
            ],
            "image/png": "[encoded data removed]"
          },
          "metadata": {}
        }
      ]
    },
    {
      "cell_type": "code",
      "source": [
        "torch.manual_seed(42)\n",
        "torch.cuda.manual_seed(42)\n",
        "\n",
        "epochs=1800\n",
        "\n",
        "for epoch in range(epochs):\n",
        "  model_ex.train()\n",
        "  y_pred=model_ex(X_train)\n",
        "  loss=loss_fn(y_pred,y_train)\n",
        "  optimizer.zero_grad()\n",
        "  loss.backward()\n",
        "  optimizer.step()\n",
        "\n",
        "  model_ex.eval()\n",
        "  with torch.inference_mode():\n",
        "    test_pred=model_ex(X_test)\n",
        "    test_loss=loss_fn(test_pred, y_test)\n",
        "\n",
        "    if(epoch%10==0):\n",
        "      print(f\"Epoch: {epoch} | Train Loss: {loss} | Test Loss: {test_loss}\")"
      ],
      "metadata": {
        "id": "02rFC8dUsfrO",
        "outputId": "9240070b-1e44-4a9f-bb24-e2ab630ecdd7",
        "colab": {
          "base_uri": "https://localhost:8080/"
        }
      },
      "execution_count": 17,
      "outputs": [
        {
          "output_type": "stream",
          "name": "stdout",
          "text": [
            "Epoch: 0 | Train Loss: 0.029745131731033325 | Test Loss: 0.06945779174566269\n",
            "Epoch: 10 | Train Loss: 0.026319047436118126 | Test Loss: 0.06146597862243652\n",
            "Epoch: 20 | Train Loss: 0.022893931716680527 | Test Loss: 0.05313023179769516\n",
            "Epoch: 30 | Train Loss: 0.019467847421765327 | Test Loss: 0.045138418674468994\n",
            "Epoch: 40 | Train Loss: 0.01604175940155983 | Test Loss: 0.037146616727113724\n",
            "Epoch: 50 | Train Loss: 0.012616651132702827 | Test Loss: 0.028810864314436913\n",
            "Epoch: 60 | Train Loss: 0.009190564975142479 | Test Loss: 0.02081906795501709\n",
            "Epoch: 70 | Train Loss: 0.005764481611549854 | Test Loss: 0.012827265076339245\n",
            "Epoch: 80 | Train Loss: 0.0023425393737852573 | Test Loss: 0.005186176393181086\n",
            "Epoch: 90 | Train Loss: 0.005894506815820932 | Test Loss: 0.009475541301071644\n",
            "Epoch: 100 | Train Loss: 0.005894506815820932 | Test Loss: 0.009475541301071644\n",
            "Epoch: 110 | Train Loss: 0.005894506815820932 | Test Loss: 0.009475541301071644\n",
            "Epoch: 120 | Train Loss: 0.005894506815820932 | Test Loss: 0.009475541301071644\n",
            "Epoch: 130 | Train Loss: 0.005894506815820932 | Test Loss: 0.009475541301071644\n",
            "Epoch: 140 | Train Loss: 0.005894506815820932 | Test Loss: 0.009475541301071644\n",
            "Epoch: 150 | Train Loss: 0.005894506815820932 | Test Loss: 0.009475541301071644\n",
            "Epoch: 160 | Train Loss: 0.005894506815820932 | Test Loss: 0.009475541301071644\n",
            "Epoch: 170 | Train Loss: 0.005894506815820932 | Test Loss: 0.009475541301071644\n",
            "Epoch: 180 | Train Loss: 0.005894506815820932 | Test Loss: 0.009475541301071644\n",
            "Epoch: 190 | Train Loss: 0.005894506815820932 | Test Loss: 0.009475541301071644\n",
            "Epoch: 200 | Train Loss: 0.005894506815820932 | Test Loss: 0.009475541301071644\n",
            "Epoch: 210 | Train Loss: 0.005894506815820932 | Test Loss: 0.009475541301071644\n",
            "Epoch: 220 | Train Loss: 0.005894506815820932 | Test Loss: 0.009475541301071644\n",
            "Epoch: 230 | Train Loss: 0.005894506815820932 | Test Loss: 0.009475541301071644\n",
            "Epoch: 240 | Train Loss: 0.005894506815820932 | Test Loss: 0.009475541301071644\n",
            "Epoch: 250 | Train Loss: 0.005894506815820932 | Test Loss: 0.009475541301071644\n",
            "Epoch: 260 | Train Loss: 0.005894506815820932 | Test Loss: 0.009475541301071644\n",
            "Epoch: 270 | Train Loss: 0.005894506815820932 | Test Loss: 0.009475541301071644\n",
            "Epoch: 280 | Train Loss: 0.005894506815820932 | Test Loss: 0.009475541301071644\n",
            "Epoch: 290 | Train Loss: 0.005894506815820932 | Test Loss: 0.009475541301071644\n",
            "Epoch: 300 | Train Loss: 0.005894506815820932 | Test Loss: 0.009475541301071644\n",
            "Epoch: 310 | Train Loss: 0.005894506815820932 | Test Loss: 0.009475541301071644\n",
            "Epoch: 320 | Train Loss: 0.005894506815820932 | Test Loss: 0.009475541301071644\n",
            "Epoch: 330 | Train Loss: 0.005894506815820932 | Test Loss: 0.009475541301071644\n",
            "Epoch: 340 | Train Loss: 0.005894506815820932 | Test Loss: 0.009475541301071644\n",
            "Epoch: 350 | Train Loss: 0.005894506815820932 | Test Loss: 0.009475541301071644\n",
            "Epoch: 360 | Train Loss: 0.005894506815820932 | Test Loss: 0.009475541301071644\n",
            "Epoch: 370 | Train Loss: 0.005894506815820932 | Test Loss: 0.009475541301071644\n",
            "Epoch: 380 | Train Loss: 0.005894506815820932 | Test Loss: 0.009475541301071644\n",
            "Epoch: 390 | Train Loss: 0.005894506815820932 | Test Loss: 0.009475541301071644\n",
            "Epoch: 400 | Train Loss: 0.005894506815820932 | Test Loss: 0.009475541301071644\n",
            "Epoch: 410 | Train Loss: 0.005894506815820932 | Test Loss: 0.009475541301071644\n",
            "Epoch: 420 | Train Loss: 0.005894506815820932 | Test Loss: 0.009475541301071644\n",
            "Epoch: 430 | Train Loss: 0.005894506815820932 | Test Loss: 0.009475541301071644\n",
            "Epoch: 440 | Train Loss: 0.005894506815820932 | Test Loss: 0.009475541301071644\n",
            "Epoch: 450 | Train Loss: 0.005894506815820932 | Test Loss: 0.009475541301071644\n",
            "Epoch: 460 | Train Loss: 0.005894506815820932 | Test Loss: 0.009475541301071644\n",
            "Epoch: 470 | Train Loss: 0.005894506815820932 | Test Loss: 0.009475541301071644\n",
            "Epoch: 480 | Train Loss: 0.005894506815820932 | Test Loss: 0.009475541301071644\n",
            "Epoch: 490 | Train Loss: 0.005894506815820932 | Test Loss: 0.009475541301071644\n",
            "Epoch: 500 | Train Loss: 0.005894506815820932 | Test Loss: 0.009475541301071644\n",
            "Epoch: 510 | Train Loss: 0.005894506815820932 | Test Loss: 0.009475541301071644\n",
            "Epoch: 520 | Train Loss: 0.005894506815820932 | Test Loss: 0.009475541301071644\n",
            "Epoch: 530 | Train Loss: 0.005894506815820932 | Test Loss: 0.009475541301071644\n",
            "Epoch: 540 | Train Loss: 0.005894506815820932 | Test Loss: 0.009475541301071644\n",
            "Epoch: 550 | Train Loss: 0.005894506815820932 | Test Loss: 0.009475541301071644\n",
            "Epoch: 560 | Train Loss: 0.005894506815820932 | Test Loss: 0.009475541301071644\n",
            "Epoch: 570 | Train Loss: 0.005894506815820932 | Test Loss: 0.009475541301071644\n",
            "Epoch: 580 | Train Loss: 0.005894506815820932 | Test Loss: 0.009475541301071644\n",
            "Epoch: 590 | Train Loss: 0.005894506815820932 | Test Loss: 0.009475541301071644\n",
            "Epoch: 600 | Train Loss: 0.005894506815820932 | Test Loss: 0.009475541301071644\n",
            "Epoch: 610 | Train Loss: 0.005894506815820932 | Test Loss: 0.009475541301071644\n",
            "Epoch: 620 | Train Loss: 0.005894506815820932 | Test Loss: 0.009475541301071644\n",
            "Epoch: 630 | Train Loss: 0.005894506815820932 | Test Loss: 0.009475541301071644\n",
            "Epoch: 640 | Train Loss: 0.005894506815820932 | Test Loss: 0.009475541301071644\n",
            "Epoch: 650 | Train Loss: 0.005894506815820932 | Test Loss: 0.009475541301071644\n",
            "Epoch: 660 | Train Loss: 0.005894506815820932 | Test Loss: 0.009475541301071644\n",
            "Epoch: 670 | Train Loss: 0.005894506815820932 | Test Loss: 0.009475541301071644\n",
            "Epoch: 680 | Train Loss: 0.005894506815820932 | Test Loss: 0.009475541301071644\n",
            "Epoch: 690 | Train Loss: 0.005894506815820932 | Test Loss: 0.009475541301071644\n",
            "Epoch: 700 | Train Loss: 0.005894506815820932 | Test Loss: 0.009475541301071644\n",
            "Epoch: 710 | Train Loss: 0.005894506815820932 | Test Loss: 0.009475541301071644\n",
            "Epoch: 720 | Train Loss: 0.005894506815820932 | Test Loss: 0.009475541301071644\n",
            "Epoch: 730 | Train Loss: 0.005894506815820932 | Test Loss: 0.009475541301071644\n",
            "Epoch: 740 | Train Loss: 0.005894506815820932 | Test Loss: 0.009475541301071644\n",
            "Epoch: 750 | Train Loss: 0.005894506815820932 | Test Loss: 0.009475541301071644\n",
            "Epoch: 760 | Train Loss: 0.005894506815820932 | Test Loss: 0.009475541301071644\n",
            "Epoch: 770 | Train Loss: 0.005894506815820932 | Test Loss: 0.009475541301071644\n",
            "Epoch: 780 | Train Loss: 0.005894506815820932 | Test Loss: 0.009475541301071644\n",
            "Epoch: 790 | Train Loss: 0.005894506815820932 | Test Loss: 0.009475541301071644\n",
            "Epoch: 800 | Train Loss: 0.005894506815820932 | Test Loss: 0.009475541301071644\n",
            "Epoch: 810 | Train Loss: 0.005894506815820932 | Test Loss: 0.009475541301071644\n",
            "Epoch: 820 | Train Loss: 0.005894506815820932 | Test Loss: 0.009475541301071644\n",
            "Epoch: 830 | Train Loss: 0.005894506815820932 | Test Loss: 0.009475541301071644\n",
            "Epoch: 840 | Train Loss: 0.005894506815820932 | Test Loss: 0.009475541301071644\n",
            "Epoch: 850 | Train Loss: 0.005894506815820932 | Test Loss: 0.009475541301071644\n",
            "Epoch: 860 | Train Loss: 0.005894506815820932 | Test Loss: 0.009475541301071644\n",
            "Epoch: 870 | Train Loss: 0.005894506815820932 | Test Loss: 0.009475541301071644\n",
            "Epoch: 880 | Train Loss: 0.005894506815820932 | Test Loss: 0.009475541301071644\n",
            "Epoch: 890 | Train Loss: 0.005894506815820932 | Test Loss: 0.009475541301071644\n"
          ]
        }
      ]
    },
    {
      "cell_type": "code",
      "source": [
        "with torch.inference_mode():\n",
        "  y_pred=model_ex(X_test)"
      ],
      "metadata": {
        "id": "BigbppdZv11A"
      },
      "execution_count": 18,
      "outputs": []
    },
    {
      "cell_type": "code",
      "source": [
        "plot_prediction(X_train,y_train, X_test, y_test,y_pred)"
      ],
      "metadata": {
        "id": "Uzz8o52PyeBA",
        "outputId": "571c5631-4c73-47b0-88a6-490b41f38987",
        "colab": {
          "base_uri": "https://localhost:8080/",
          "height": 430
        }
      },
      "execution_count": 24,
      "outputs": [
        {
          "output_type": "display_data",
          "data": {
            "text/plain": [
              "<Figure size 640x480 with 1 Axes>"
            ],
            "image/png": "[encoded data removed]"
          },
          "metadata": {}
        }
      ]
    },
    {
      "cell_type": "code",
      "source": [
        "from pathlib import Path\n",
        "\n",
        "MODEL_PATH = Path(\"models\")\n",
        "MODEL_PATH.mkdir(parents=True, exist_ok=True)\n",
        "\n",
        "MODEL_NAME=\"model_ex.pth\"\n",
        "MODEL_SAVE_PATH = MODEL_PATH / MODEL_NAME\n",
        "\n",
        "torch.save(obj=model_ex.state_dict(),\n",
        "           f=MODEL_SAVE_PATH)"
      ],
      "metadata": {
        "id": "3WJFCc7uyhLi"
      },
      "execution_count": 20,
      "outputs": []
    },
    {
      "cell_type": "code",
      "source": [
        "loaded_model_ex = LR()\n",
        "loaded_model_ex.load_state_dict(torch.load(MODEL_SAVE_PATH))\n",
        "loaded_model_ex.state_dict()"
      ],
      "metadata": {
        "id": "0-E6KVUfo4xQ",
        "outputId": "05df55bd-e0a0-4a51-cd9c-017e1a47d994",
        "colab": {
          "base_uri": "https://localhost:8080/"
        }
      },
      "execution_count": 21,
      "outputs": [
        {
          "output_type": "execute_result",
          "data": {
            "text/plain": [
              "OrderedDict([('weight', tensor([0.3037])), ('bias', tensor([0.8927]))])"
            ]
          },
          "metadata": {},
          "execution_count": 21
        }
      ]
    },
    {
      "cell_type": "code",
      "source": [
        "with torch.inference_mode():\n",
        "  y_pred=loaded_model_ex(X_test)"
      ],
      "metadata": {
        "id": "VTaC6EQ7nfjN"
      },
      "execution_count": 25,
      "outputs": []
    },
    {
      "cell_type": "code",
      "source": [
        "plot_prediction(X_train,y_train, X_test, y_test,y_pred)"
      ],
      "metadata": {
        "id": "7TRvD3VzqEpS",
        "outputId": "3894459f-950e-4774-8234-22a87955953a",
        "colab": {
          "base_uri": "https://localhost:8080/",
          "height": 430
        }
      },
      "execution_count": 26,
      "outputs": [
        {
          "output_type": "display_data",
          "data": {
            "text/plain": [
              "<Figure size 640x480 with 1 Axes>"
            ],
            "image/png": "[encoded data removed]"
          },
          "metadata": {}
        }
      ]
    },
    {
      "cell_type": "code",
      "source": [],
      "metadata": {
        "id": "cqUcbLngqHH1"
      },
      "execution_count": null,
      "outputs": []
    }
  ]
}